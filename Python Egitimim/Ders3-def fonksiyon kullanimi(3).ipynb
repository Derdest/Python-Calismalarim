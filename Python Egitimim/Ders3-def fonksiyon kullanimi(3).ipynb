{
 "cells": [
  {
   "cell_type": "code",
   "execution_count": 4,
   "id": "9551ce62",
   "metadata": {},
   "outputs": [],
   "source": [
    "def fonks(*args):\n",
    "    for i in args:\n",
    "        print(i)"
   ]
  },
  {
   "cell_type": "code",
   "execution_count": 5,
   "id": "d2e6dc5d",
   "metadata": {},
   "outputs": [
    {
     "name": "stdout",
     "output_type": "stream",
     "text": [
      "1\n",
      "2\n",
      "3\n",
      "4\n",
      "5\n"
     ]
    }
   ],
   "source": [
    "fonks(1,2,3,4,5)        #BURADA * LI PARAMETRELER DEMET HALİNE DÖNÜŞTÜ VE BASTIRILDI...."
   ]
  },
  {
   "cell_type": "code",
   "execution_count": 7,
   "id": "f8e7051f",
   "metadata": {},
   "outputs": [],
   "source": [
    "def fon(isim,*args):\n",
    "    print(\"İSİM:\",isim)\n",
    "    print(\"------------------\")\n",
    "    for i in args:\n",
    "        print(i)"
   ]
  },
  {
   "cell_type": "code",
   "execution_count": 9,
   "id": "6199755b",
   "metadata": {},
   "outputs": [
    {
     "name": "stdout",
     "output_type": "stream",
     "text": [
      "İSİM: Hakan\n",
      "------------------\n",
      "1\n",
      "2\n",
      "3\n",
      "4\n",
      "5\n"
     ]
    }
   ],
   "source": [
    "fon(\"Hakan\",1,2,3,4,5)"
   ]
  },
  {
   "cell_type": "code",
   "execution_count": 10,
   "id": "fe895098",
   "metadata": {},
   "outputs": [],
   "source": [
    "def fonksiyon(**kwargs):\n",
    "    print(kwargs)"
   ]
  },
  {
   "cell_type": "code",
   "execution_count": 11,
   "id": "0c3f4ad1",
   "metadata": {},
   "outputs": [
    {
     "name": "stdout",
     "output_type": "stream",
     "text": [
      "{'isim': 'Hakan', 'soyisim': 'Ünlü', 'Sayı': 159}\n"
     ]
    }
   ],
   "source": [
    "fonksiyon(isim=\"Hakan\",soyisim=\"Ünlü\",Sayı=159)"
   ]
  },
  {
   "cell_type": "code",
   "execution_count": 19,
   "id": "a115587c",
   "metadata": {},
   "outputs": [],
   "source": [
    "def fonks(**kwargs):\n",
    "    for i,j in kwargs.items():\n",
    "        print(\"Argüman ismi:\",i,\"Argüman değeri\",j)"
   ]
  },
  {
   "cell_type": "code",
   "execution_count": 20,
   "id": "3ba0a16a",
   "metadata": {},
   "outputs": [
    {
     "name": "stdout",
     "output_type": "stream",
     "text": [
      "Argüman ismi: tanım1 Argüman değeri Değer..1\n",
      "Argüman ismi: tanım2 Argüman değeri Değer..2\n",
      "Argüman ismi: tanım3 Argüman değeri 123456789\n"
     ]
    }
   ],
   "source": [
    "fonks(tanım1=\"Değer..1\",tanım2=\"Değer..2\",tanım3=123456789)"
   ]
  },
  {
   "cell_type": "code",
   "execution_count": null,
   "id": "cfa504c2",
   "metadata": {},
   "outputs": [],
   "source": []
  },
  {
   "cell_type": "code",
   "execution_count": 35,
   "id": "5de37192",
   "metadata": {},
   "outputs": [],
   "source": [
    "def fonksiyon(*args,**kwargs):\n",
    "    for i in args:\n",
    "        print(i)\n",
    "    print(\"---------------------\")\n",
    "    \n",
    "    for i,j in kwargs.items():\n",
    "        print(i,j)"
   ]
  },
  {
   "cell_type": "code",
   "execution_count": 36,
   "id": "cc84282b",
   "metadata": {},
   "outputs": [
    {
     "name": "stdout",
     "output_type": "stream",
     "text": [
      "545484484\n",
      "---------------------\n",
      "isim AAA\n",
      "isim2 BBB\n",
      "numara 221\n"
     ]
    }
   ],
   "source": [
    "fonksiyon(545484484,isim=\"AAA\",isim2=\"BBB\",numara = \"221\")"
   ]
  },
  {
   "cell_type": "code",
   "execution_count": null,
   "id": "ef9ebd86",
   "metadata": {},
   "outputs": [],
   "source": []
  },
  {
   "cell_type": "code",
   "execution_count": 41,
   "id": "27dddc18",
   "metadata": {},
   "outputs": [],
   "source": [
    "def selam(isim):\n",
    "    print(\"İSİM:\",isim)"
   ]
  },
  {
   "cell_type": "code",
   "execution_count": 42,
   "id": "ff3d363d",
   "metadata": {},
   "outputs": [
    {
     "name": "stdout",
     "output_type": "stream",
     "text": [
      "İSİM: Hakan\n"
     ]
    }
   ],
   "source": [
    "selam(\"Hakan\")"
   ]
  },
  {
   "cell_type": "code",
   "execution_count": 43,
   "id": "effa6e26",
   "metadata": {},
   "outputs": [
    {
     "name": "stdout",
     "output_type": "stream",
     "text": [
      "İSİM: Ahmet\n"
     ]
    }
   ],
   "source": [
    "abc=selam\n",
    "abc(\"Ahmet\")"
   ]
  },
  {
   "cell_type": "code",
   "execution_count": null,
   "id": "ee0030d9",
   "metadata": {},
   "outputs": [],
   "source": []
  },
  {
   "cell_type": "code",
   "execution_count": 68,
   "id": "a7a30ff9",
   "metadata": {},
   "outputs": [],
   "source": [
    "def fonksiyon():\n",
    "    def fonksiyon2():\n",
    "        print(\"Burası küçük fonksiyon....\")\n",
    "    fonksiyon2()\n",
    "    print(\"Büyük fonks burada....\")"
   ]
  },
  {
   "cell_type": "code",
   "execution_count": 69,
   "id": "86143ce6",
   "metadata": {},
   "outputs": [
    {
     "name": "stdout",
     "output_type": "stream",
     "text": [
      "Burası küçük fonksiyon....\n",
      "Büyük fonks burada....\n"
     ]
    }
   ],
   "source": [
    "fonksiyon()"
   ]
  },
  {
   "cell_type": "code",
   "execution_count": null,
   "id": "c91bc2b4",
   "metadata": {},
   "outputs": [],
   "source": []
  },
  {
   "cell_type": "code",
   "execution_count": 86,
   "id": "d25f4b68",
   "metadata": {},
   "outputs": [],
   "source": [
    "def toplama(*args):\n",
    "    toplama=0\n",
    "    for i in args:\n",
    "        toplama+=i\n",
    "    print(toplama)"
   ]
  },
  {
   "cell_type": "code",
   "execution_count": 87,
   "id": "573b4ff3",
   "metadata": {},
   "outputs": [
    {
     "name": "stdout",
     "output_type": "stream",
     "text": [
      "15\n"
     ]
    }
   ],
   "source": [
    "toplama(1,2,3,4,5)"
   ]
  },
  {
   "cell_type": "code",
   "execution_count": 88,
   "id": "9a67a34d",
   "metadata": {},
   "outputs": [
    {
     "name": "stdout",
     "output_type": "stream",
     "text": [
      "68\n"
     ]
    }
   ],
   "source": [
    "toplama(1,59,8)"
   ]
  },
  {
   "cell_type": "code",
   "execution_count": null,
   "id": "b9ad1e2e",
   "metadata": {},
   "outputs": [],
   "source": []
  },
  {
   "cell_type": "code",
   "execution_count": 98,
   "id": "73d8da4c",
   "metadata": {},
   "outputs": [],
   "source": [
    "def fonks(*args):\n",
    "    def toplam(args):\n",
    "        toplam=0\n",
    "        for i in args:\n",
    "            toplam+=i\n",
    "        return toplam\n",
    "    print(toplam(args))"
   ]
  },
  {
   "cell_type": "code",
   "execution_count": 102,
   "id": "181ac1be",
   "metadata": {},
   "outputs": [
    {
     "name": "stdout",
     "output_type": "stream",
     "text": [
      "37\n"
     ]
    }
   ],
   "source": [
    "fonks(19,3,4,5,6)"
   ]
  },
  {
   "cell_type": "code",
   "execution_count": null,
   "id": "0b40bdca",
   "metadata": {},
   "outputs": [],
   "source": []
  }
 ],
 "metadata": {
  "kernelspec": {
   "display_name": "Python 3 (ipykernel)",
   "language": "python",
   "name": "python3"
  },
  "language_info": {
   "codemirror_mode": {
    "name": "ipython",
    "version": 3
   },
   "file_extension": ".py",
   "mimetype": "text/x-python",
   "name": "python",
   "nbconvert_exporter": "python",
   "pygments_lexer": "ipython3",
   "version": "3.11.3"
  }
 },
 "nbformat": 4,
 "nbformat_minor": 5
}
