{
 "cells": [
  {
   "cell_type": "code",
   "execution_count": 24,
   "id": "eee058c1",
   "metadata": {},
   "outputs": [
    {
     "data": {
      "text/plain": [
       "<_io.TextIOWrapper name='bilgiler2.txt' mode='w' encoding='cp1254'>"
      ]
     },
     "execution_count": 24,
     "metadata": {},
     "output_type": "execute_result"
    }
   ],
   "source": [
    "open(\"bilgiler2.txt\",\"w\")"
   ]
  },
  {
   "cell_type": "code",
   "execution_count": 25,
   "id": "8564b1f2",
   "metadata": {},
   "outputs": [
    {
     "data": {
      "text/plain": [
       "<_io.TextIOWrapper name='bilgiler2.txt' mode='w' encoding='utf-8'>"
      ]
     },
     "execution_count": 25,
     "metadata": {},
     "output_type": "execute_result"
    }
   ],
   "source": [
    "open(\"bilgiler2.txt\",\"w\",encoding=\"utf-8\")"
   ]
  },
  {
   "cell_type": "code",
   "execution_count": 42,
   "id": "eeac725b",
   "metadata": {},
   "outputs": [
    {
     "data": {
      "text/plain": [
       "6"
      ]
     },
     "execution_count": 42,
     "metadata": {},
     "output_type": "execute_result"
    }
   ],
   "source": [
    "file=open(\"bilgiler2.txt\",\"w\",encoding=\"utf-8\")\n",
    "file.write(\"Deneme\")"
   ]
  },
  {
   "cell_type": "code",
   "execution_count": 43,
   "id": "454e601a",
   "metadata": {},
   "outputs": [],
   "source": [
    "file.close()"
   ]
  },
  {
   "cell_type": "code",
   "execution_count": 44,
   "id": "fcc4aed1",
   "metadata": {},
   "outputs": [
    {
     "data": {
      "text/plain": [
       "6"
      ]
     },
     "execution_count": 44,
     "metadata": {},
     "output_type": "execute_result"
    }
   ],
   "source": [
    "file=open(\"bilgiler2.txt\",\"a\",encoding=\"utf-8\")\n",
    "file.write(\"Deneme\")"
   ]
  },
  {
   "cell_type": "code",
   "execution_count": 45,
   "id": "66ef3915",
   "metadata": {},
   "outputs": [],
   "source": [
    "file.close()"
   ]
  },
  {
   "cell_type": "code",
   "execution_count": 46,
   "id": "8c054ba4",
   "metadata": {},
   "outputs": [
    {
     "data": {
      "text/plain": [
       "8"
      ]
     },
     "execution_count": 46,
     "metadata": {},
     "output_type": "execute_result"
    }
   ],
   "source": [
    "file=open(\"bilgiler2.txt\",\"a\",encoding=\"utf-8\")\n",
    "file.write(\"\\nDeneme2\")"
   ]
  },
  {
   "cell_type": "code",
   "execution_count": 47,
   "id": "dd87c7a8",
   "metadata": {},
   "outputs": [],
   "source": [
    "file.close()"
   ]
  },
  {
   "cell_type": "code",
   "execution_count": 48,
   "id": "9c615fa5",
   "metadata": {},
   "outputs": [
    {
     "name": "stdout",
     "output_type": "stream",
     "text": [
      "DenemeDeneme\n",
      "Deneme2\n"
     ]
    }
   ],
   "source": [
    "file=open(\"bilgiler2.txt\",\"r\",encoding=\"utf-8\")\n",
    "print(file.read())"
   ]
  },
  {
   "cell_type": "code",
   "execution_count": 92,
   "id": "2d98399d",
   "metadata": {},
   "outputs": [],
   "source": [
    "with open(\"bilgiler2.txt\",\"r+\",encoding=\"utf-8\") as file:\n",
    "    icerik=file.read()\n",
    "    icerik=\"Hakan\\n\" + icerik\n",
    "    file.seek(0)\n",
    "    file.write(icerik)"
   ]
  },
  {
   "cell_type": "code",
   "execution_count": 93,
   "id": "337359ee",
   "metadata": {},
   "outputs": [
    {
     "name": "stdout",
     "output_type": "stream",
     "text": [
      "Hakan\n",
      "Hakan\n",
      "Hakan\n",
      "Hakan\n",
      "Hakan\n",
      "Hakan\n",
      "Hakan\n",
      "Hakan\n",
      "Hakan\n",
      "Hakan\n",
      "HakanDenemeDeneme\n",
      "Deneme2\n"
     ]
    }
   ],
   "source": [
    "with open(\"bilgiler2.txt\",\"r+\",encoding=\"utf-8\") as file:\n",
    "    icerik = file.read()\n",
    "    print(icerik) "
   ]
  },
  {
   "cell_type": "code",
   "execution_count": 95,
   "id": "1214e9a8",
   "metadata": {},
   "outputs": [
    {
     "name": "stdout",
     "output_type": "stream",
     "text": [
      "['Hakan\\n', 'Hakan\\n', 'Hakan\\n', 'Hakan\\n', 'Hakan\\n', 'Hakan\\n', 'Hakan\\n', 'Hakan\\n', 'Hakan\\n', 'Hakan\\n', 'HakanDenemeDeneme\\n', 'Deneme2']\n"
     ]
    }
   ],
   "source": [
    "with open(\"bilgiler2.txt\",\"r+\",encoding=\"utf-8\") as file:\n",
    "    liste=file.readlines()\n",
    "    print(liste)"
   ]
  },
  {
   "cell_type": "code",
   "execution_count": 125,
   "id": "1caf0d1b",
   "metadata": {},
   "outputs": [
    {
     "name": "stdout",
     "output_type": "stream",
     "text": [
      "36\n"
     ]
    }
   ],
   "source": [
    "with open(\"bilgiler2.txt\",\"w\",encoding=\"utf-8\") as file:\n",
    "    print(file.write(\"HAKAN\\nÜNLÜ\\n123\\nDeneme Dosyası\\nDeneme\"))"
   ]
  },
  {
   "cell_type": "code",
   "execution_count": 126,
   "id": "911d0d00",
   "metadata": {},
   "outputs": [
    {
     "name": "stdout",
     "output_type": "stream",
     "text": [
      "HAKAN\n",
      "ÜNLÜ\n",
      "123\n",
      "Deneme Dosyası\n",
      "Deneme\n"
     ]
    }
   ],
   "source": [
    "with open(\"bilgiler2.txt\",\"r\",encoding=\"utf-8\") as file:\n",
    "    içerik=file.read()\n",
    "    print(içerik)"
   ]
  },
  {
   "cell_type": "code",
   "execution_count": 118,
   "id": "9576be75",
   "metadata": {},
   "outputs": [
    {
     "name": "stdout",
     "output_type": "stream",
     "text": [
      "['HAKAN\\n', 'ÜNLÜ\\n', '123\\n', 'Deneme Dosyası\\n', 'Deneme']\n"
     ]
    }
   ],
   "source": [
    "with open(\"bilgiler2.txt\",\"r+\",encoding=\"utf-8\") as file:\n",
    "    liste=file.readlines()\n",
    "    print(liste)"
   ]
  },
  {
   "cell_type": "code",
   "execution_count": null,
   "id": "7a52305c",
   "metadata": {},
   "outputs": [],
   "source": []
  },
  {
   "cell_type": "code",
   "execution_count": 119,
   "id": "1a63212a",
   "metadata": {},
   "outputs": [],
   "source": [
    "with open(\"bilgiler2.txt\",\"r+\",encoding=\"utf-8\") as file:\n",
    "    liste=file.readlines()\n",
    "    liste.insert(3,\"Buraya ekleme yapıldı!!!\\n\")\n",
    "    file.seek(0)\n",
    "    for i in liste:\n",
    "        file.write(i)"
   ]
  },
  {
   "cell_type": "code",
   "execution_count": 121,
   "id": "25394c31",
   "metadata": {},
   "outputs": [
    {
     "name": "stdout",
     "output_type": "stream",
     "text": [
      "HAKAN\n",
      "ÜNLÜ\n",
      "123\n",
      "Buraya ekleme yapıldı!!!\n",
      "Deneme Dosyası\n",
      "Deneme\n"
     ]
    }
   ],
   "source": [
    "with open(\"bilgiler2.txt\",\"r\",encoding=\"utf-8\") as file:\n",
    "    içerik=file.read()\n",
    "    print(içerik)"
   ]
  },
  {
   "cell_type": "code",
   "execution_count": null,
   "id": "20398d80",
   "metadata": {},
   "outputs": [],
   "source": []
  },
  {
   "cell_type": "code",
   "execution_count": 127,
   "id": "22740a63",
   "metadata": {},
   "outputs": [],
   "source": [
    "with open(\"bilgiler2.txt\",\"r+\",encoding=\"utf-8\") as file:\n",
    "    liste=file.readlines()\n",
    "    liste.insert(3,\"Buraya ekleme yapılıyor!!!\\n\")\n",
    "    file.seek(0)\n",
    "    file.writelines(liste)"
   ]
  },
  {
   "cell_type": "code",
   "execution_count": 128,
   "id": "5860cc75",
   "metadata": {},
   "outputs": [
    {
     "name": "stdout",
     "output_type": "stream",
     "text": [
      "HAKAN\n",
      "ÜNLÜ\n",
      "123\n",
      "Buraya ekleme yapılıyor!!!\n",
      "Deneme Dosyası\n",
      "Deneme\n"
     ]
    }
   ],
   "source": [
    "with open(\"bilgiler2.txt\",\"r\",encoding=\"utf-8\") as file:\n",
    "    içerik=file.read()\n",
    "    print(içerik)"
   ]
  },
  {
   "cell_type": "code",
   "execution_count": null,
   "id": "6b9bdc4d",
   "metadata": {},
   "outputs": [],
   "source": []
  }
 ],
 "metadata": {
  "kernelspec": {
   "display_name": "Python 3 (ipykernel)",
   "language": "python",
   "name": "python3"
  },
  "language_info": {
   "codemirror_mode": {
    "name": "ipython",
    "version": 3
   },
   "file_extension": ".py",
   "mimetype": "text/x-python",
   "name": "python",
   "nbconvert_exporter": "python",
   "pygments_lexer": "ipython3",
   "version": "3.11.3"
  }
 },
 "nbformat": 4,
 "nbformat_minor": 5
}
