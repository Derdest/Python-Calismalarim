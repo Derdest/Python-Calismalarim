{
 "cells": [
  {
   "cell_type": "code",
   "execution_count": 3,
   "id": "97ee8b77",
   "metadata": {},
   "outputs": [
    {
     "data": {
      "text/plain": [
       "<_io.TextIOWrapper name='bilgiler.txt' mode='w' encoding='cp1254'>"
      ]
     },
     "execution_count": 3,
     "metadata": {},
     "output_type": "execute_result"
    }
   ],
   "source": [
    "open(\"bilgiler.txt\",\"w\")"
   ]
  },
  {
   "cell_type": "code",
   "execution_count": 2,
   "id": "e7a71063",
   "metadata": {},
   "outputs": [],
   "source": [
    "file=open(\"bilgiler.txt\",\"w\")"
   ]
  },
  {
   "cell_type": "code",
   "execution_count": null,
   "id": "d17b8bb2",
   "metadata": {},
   "outputs": [],
   "source": []
  },
  {
   "cell_type": "code",
   "execution_count": 39,
   "id": "e7741143",
   "metadata": {},
   "outputs": [],
   "source": [
    "file=open(\"bilgiler.txt\",\"w\",encoding=\"utf-8\")"
   ]
  },
  {
   "cell_type": "code",
   "execution_count": 40,
   "id": "27cb4f44",
   "metadata": {},
   "outputs": [
    {
     "data": {
      "text/plain": [
       "11"
      ]
     },
     "execution_count": 40,
     "metadata": {},
     "output_type": "execute_result"
    }
   ],
   "source": [
    "file.write(\"Hakan Ünlü\\n\")"
   ]
  },
  {
   "cell_type": "code",
   "execution_count": 41,
   "id": "a326f446",
   "metadata": {},
   "outputs": [],
   "source": [
    "file.close()"
   ]
  },
  {
   "cell_type": "code",
   "execution_count": 42,
   "id": "377eed82",
   "metadata": {},
   "outputs": [],
   "source": [
    "file=open(\"bilgiler.txt\",\"a\",encoding=\"utf-8\")\n"
   ]
  },
  {
   "cell_type": "code",
   "execution_count": 43,
   "id": "a7bd2fd6",
   "metadata": {},
   "outputs": [
    {
     "data": {
      "text/plain": [
       "6"
      ]
     },
     "execution_count": 43,
     "metadata": {},
     "output_type": "execute_result"
    }
   ],
   "source": [
    "file.write(\"Deneme\")"
   ]
  },
  {
   "cell_type": "code",
   "execution_count": 44,
   "id": "7e60d28c",
   "metadata": {},
   "outputs": [],
   "source": [
    "file.close()"
   ]
  },
  {
   "cell_type": "code",
   "execution_count": null,
   "id": "44ae35b1",
   "metadata": {},
   "outputs": [],
   "source": []
  },
  {
   "cell_type": "code",
   "execution_count": 51,
   "id": "f9d7bb04",
   "metadata": {},
   "outputs": [],
   "source": [
    "file=open(\"bilgiler.txt\",\"r\",encoding=\"utf-8\")"
   ]
  },
  {
   "cell_type": "code",
   "execution_count": 52,
   "id": "700c5ffc",
   "metadata": {},
   "outputs": [],
   "source": [
    "file.close()"
   ]
  },
  {
   "cell_type": "code",
   "execution_count": null,
   "id": "d66304f0",
   "metadata": {},
   "outputs": [],
   "source": []
  },
  {
   "cell_type": "code",
   "execution_count": 48,
   "id": "d4697b46",
   "metadata": {},
   "outputs": [
    {
     "ename": "FileNotFoundError",
     "evalue": "[Errno 2] No such file or directory: 'bilgiler2.txt'",
     "output_type": "error",
     "traceback": [
      "\u001b[1;31m---------------------------------------------------------------------------\u001b[0m",
      "\u001b[1;31mFileNotFoundError\u001b[0m                         Traceback (most recent call last)",
      "Cell \u001b[1;32mIn[48], line 1\u001b[0m\n\u001b[1;32m----> 1\u001b[0m file\u001b[38;5;241m=\u001b[39m\u001b[38;5;28mopen\u001b[39m(\u001b[38;5;124m\"\u001b[39m\u001b[38;5;124mbilgiler2.txt\u001b[39m\u001b[38;5;124m\"\u001b[39m,\u001b[38;5;124m\"\u001b[39m\u001b[38;5;124mr\u001b[39m\u001b[38;5;124m\"\u001b[39m)\n",
      "File \u001b[1;32mC:\\Program Files\\Anaconda3\\Lib\\site-packages\\IPython\\core\\interactiveshell.py:284\u001b[0m, in \u001b[0;36m_modified_open\u001b[1;34m(file, *args, **kwargs)\u001b[0m\n\u001b[0;32m    277\u001b[0m \u001b[38;5;28;01mif\u001b[39;00m file \u001b[38;5;129;01min\u001b[39;00m {\u001b[38;5;241m0\u001b[39m, \u001b[38;5;241m1\u001b[39m, \u001b[38;5;241m2\u001b[39m}:\n\u001b[0;32m    278\u001b[0m     \u001b[38;5;28;01mraise\u001b[39;00m \u001b[38;5;167;01mValueError\u001b[39;00m(\n\u001b[0;32m    279\u001b[0m         \u001b[38;5;124mf\u001b[39m\u001b[38;5;124m\"\u001b[39m\u001b[38;5;124mIPython won\u001b[39m\u001b[38;5;124m'\u001b[39m\u001b[38;5;124mt let you open fd=\u001b[39m\u001b[38;5;132;01m{\u001b[39;00mfile\u001b[38;5;132;01m}\u001b[39;00m\u001b[38;5;124m by default \u001b[39m\u001b[38;5;124m\"\u001b[39m\n\u001b[0;32m    280\u001b[0m         \u001b[38;5;124m\"\u001b[39m\u001b[38;5;124mas it is likely to crash IPython. If you know what you are doing, \u001b[39m\u001b[38;5;124m\"\u001b[39m\n\u001b[0;32m    281\u001b[0m         \u001b[38;5;124m\"\u001b[39m\u001b[38;5;124myou can use builtins\u001b[39m\u001b[38;5;124m'\u001b[39m\u001b[38;5;124m open.\u001b[39m\u001b[38;5;124m\"\u001b[39m\n\u001b[0;32m    282\u001b[0m     )\n\u001b[1;32m--> 284\u001b[0m \u001b[38;5;28;01mreturn\u001b[39;00m io_open(file, \u001b[38;5;241m*\u001b[39margs, \u001b[38;5;241m*\u001b[39m\u001b[38;5;241m*\u001b[39mkwargs)\n",
      "\u001b[1;31mFileNotFoundError\u001b[0m: [Errno 2] No such file or directory: 'bilgiler2.txt'"
     ]
    }
   ],
   "source": [
    "file=open(\"bilgiler2.txt\",\"r\")"
   ]
  },
  {
   "cell_type": "code",
   "execution_count": 50,
   "id": "cdb9db36",
   "metadata": {},
   "outputs": [
    {
     "name": "stdout",
     "output_type": "stream",
     "text": [
      "Dosya bulunamadı......\n"
     ]
    }
   ],
   "source": [
    "try:\n",
    "    file=open(\"bilgiler2.txt\",\"r\")\n",
    "except FileNotFoundError:\n",
    "    print(\"Dosya bulunamadı......\")"
   ]
  },
  {
   "cell_type": "code",
   "execution_count": null,
   "id": "ba3296bb",
   "metadata": {},
   "outputs": [],
   "source": []
  },
  {
   "cell_type": "code",
   "execution_count": 54,
   "id": "d738f16e",
   "metadata": {},
   "outputs": [
    {
     "name": "stdout",
     "output_type": "stream",
     "text": [
      "Hakan Ünlü\n",
      "Deneme"
     ]
    }
   ],
   "source": [
    "file=open(\"bilgiler.txt\",\"r\",encoding=\"utf-8\")\n",
    "for i in file:\n",
    "    print(i,end=\"\")\n",
    "file.close()"
   ]
  },
  {
   "cell_type": "code",
   "execution_count": 59,
   "id": "1ff963ef",
   "metadata": {},
   "outputs": [
    {
     "name": "stdout",
     "output_type": "stream",
     "text": [
      "Dosyanın içeriği:\n",
      "Hakan Ünlü\n",
      "Deneme\n"
     ]
    }
   ],
   "source": [
    "file=open(\"bilgiler.txt\",\"r\",encoding=\"utf-8\")\n",
    "içerik=file.read()\n",
    "print(\"Dosyanın içeriği:\")\n",
    "print(içerik)"
   ]
  },
  {
   "cell_type": "code",
   "execution_count": null,
   "id": "03660c16",
   "metadata": {},
   "outputs": [],
   "source": []
  },
  {
   "cell_type": "code",
   "execution_count": 4,
   "id": "2ede342c",
   "metadata": {},
   "outputs": [
    {
     "name": "stdout",
     "output_type": "stream",
     "text": [
      "Hakan Ünlü\n",
      "\n"
     ]
    }
   ],
   "source": [
    "file=open(\"bilgiler.txt\",\"r\",encoding=\"utf-8\")\n",
    "içerik=file.readline()\n",
    "print(içerik)\n"
   ]
  },
  {
   "cell_type": "code",
   "execution_count": null,
   "id": "72c6acd8",
   "metadata": {},
   "outputs": [],
   "source": []
  },
  {
   "cell_type": "code",
   "execution_count": 2,
   "id": "1ed0ed55",
   "metadata": {},
   "outputs": [
    {
     "data": {
      "text/plain": [
       "15"
      ]
     },
     "execution_count": 2,
     "metadata": {},
     "output_type": "execute_result"
    }
   ],
   "source": [
    "file=open(\"bilgiler.txt\",\"w\",encoding=\"utf-8\")\n",
    "file.write(\"Hakan,a,b,c,d,e\")"
   ]
  },
  {
   "cell_type": "code",
   "execution_count": 22,
   "id": "2f33f43f",
   "metadata": {},
   "outputs": [],
   "source": [
    "with open(\"bilgiler.txt\",\"w\",encoding=\"utf-8\") as file:\n",
    "    file.write(\"Hakan Ünlü\\nHakan\\nÜnlü\\nÜn\\nLü\")"
   ]
  },
  {
   "cell_type": "code",
   "execution_count": 23,
   "id": "7f5c343a",
   "metadata": {},
   "outputs": [
    {
     "name": "stdout",
     "output_type": "stream",
     "text": [
      "4\n"
     ]
    }
   ],
   "source": [
    "with open(\"bilgiler.txt\",\"r\",encoding=\"utf-8\") as file:\n",
    "    file.seek(4)\n",
    "    print(file.tell())"
   ]
  },
  {
   "cell_type": "code",
   "execution_count": null,
   "id": "98ab3383",
   "metadata": {},
   "outputs": [],
   "source": []
  },
  {
   "cell_type": "code",
   "execution_count": 24,
   "id": "177e8df8",
   "metadata": {},
   "outputs": [
    {
     "name": "stdout",
     "output_type": "stream",
     "text": [
      "n Ünlü\n",
      "H\n"
     ]
    }
   ],
   "source": [
    "with open(\"bilgiler.txt\",\"r\",encoding=\"utf-8\") as file:\n",
    "    file.seek(4)\n",
    "    print(file.read(8))"
   ]
  },
  {
   "cell_type": "code",
   "execution_count": null,
   "id": "0df2f7be",
   "metadata": {},
   "outputs": [],
   "source": []
  }
 ],
 "metadata": {
  "kernelspec": {
   "display_name": "Python 3 (ipykernel)",
   "language": "python",
   "name": "python3"
  },
  "language_info": {
   "codemirror_mode": {
    "name": "ipython",
    "version": 3
   },
   "file_extension": ".py",
   "mimetype": "text/x-python",
   "name": "python",
   "nbconvert_exporter": "python",
   "pygments_lexer": "ipython3",
   "version": "3.11.3"
  }
 },
 "nbformat": 4,
 "nbformat_minor": 5
}
