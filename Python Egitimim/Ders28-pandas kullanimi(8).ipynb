{
 "cells": [
  {
   "cell_type": "code",
   "execution_count": 1,
   "id": "13b38f4c",
   "metadata": {},
   "outputs": [],
   "source": [
    "import pandas as pd"
   ]
  },
  {
   "cell_type": "code",
   "execution_count": null,
   "id": "633f0325",
   "metadata": {},
   "outputs": [],
   "source": []
  },
  {
   "cell_type": "code",
   "execution_count": null,
   "id": "a5f88bb5",
   "metadata": {},
   "outputs": [],
   "source": [
    "dataset=pd.read_csv(\"USVideos.csv\") #USvideos DOSYASI CSV KAYNAKLIDIR. BU DOSYA OKUNUR"
   ]
  },
  {
   "cell_type": "code",
   "execution_count": null,
   "id": "4fbe2da1",
   "metadata": {},
   "outputs": [],
   "source": [
    "newdataset1=dataset.drop([\"video_id\",\"trending_date\"],axis=1)\n",
    "newdataset1\n",
    "#BURADA DATASET OLARAK OLUSTURDUGUMUZ DOSYADAN video_id ve trending_date VERİLERİNİ SİLDİK.\n",
    "#BU SİLME İŞLEMİNİN NEREDEN SİLİNECEĞİNİ BELİRTMEK İÇİN DE axis=1 YAPTIK. BÖYLECE KOLONDAN SİLİNDE."
   ]
  },
  {
   "cell_type": "code",
   "execution_count": null,
   "id": "ed738513",
   "metadata": {},
   "outputs": [],
   "source": [
    "newdataset1.to_csv(\"USVideos.csv\") #BÖYLECE newdataset1 İSMİNDE YENİ BİR CSV DOSYASI OLUŞTURULDU"
   ]
  },
  {
   "cell_type": "code",
   "execution_count": null,
   "id": "d2c32282",
   "metadata": {},
   "outputs": [],
   "source": [
    "newdataset1.to_csv(\"USVideos.csv\",index=False) #BURADA OLUŞTURDUGUMUZ CSV DOSYASINDA INDEX BILGILERINI GOSTERMEDEN YAZDIRDIK.\n",
    "                                               #DAHA DÜZENLİ BİR GÖRÜNTÜ OLUŞTU."
   ]
  },
  {
   "cell_type": "code",
   "execution_count": null,
   "id": "1b150bf9",
   "metadata": {},
   "outputs": [],
   "source": []
  },
  {
   "cell_type": "code",
   "execution_count": null,
   "id": "c0bc2aa1",
   "metadata": {},
   "outputs": [],
   "source": []
  },
  {
   "cell_type": "code",
   "execution_count": null,
   "id": "aa71b52b",
   "metadata": {},
   "outputs": [],
   "source": [
    "excelset=pd.read_excel(\"excelfile.xlsx\")  #EXCEL DOSYASI OKUMAK BU ŞEKİLDE. excelfile BİZİM DOSYAMIZIN İSMİ"
   ]
  },
  {
   "cell_type": "code",
   "execution_count": null,
   "id": "b7012cb1",
   "metadata": {},
   "outputs": [],
   "source": [
    "excelset[\"Column5\"]=[\"Mustafa\",\"Murat\",\"Coşkun\",\"Udemy\"]\n",
    "excelset\n",
    "#BURADA excelset imize YENİ BİR BİR KOLON 5 EKLEDİK. EKLENEN VERI SAYISI VE excelset in INDEX SAYISI EŞİT OLMALI. İKİSİ DE 4 TANE"
   ]
  },
  {
   "cell_type": "code",
   "execution_count": null,
   "id": "eeaec496",
   "metadata": {},
   "outputs": [],
   "source": [
    "excelset.to_excel(\"excelfilenew.xlsx\")  #KOLON 5 İ EKLEDİĞİMİZ BİLGİLER YENİ EXCEL DOSYASI OLARAK KAYDEDİLİR"
   ]
  },
  {
   "cell_type": "code",
   "execution_count": null,
   "id": "0d16b3a8",
   "metadata": {},
   "outputs": [],
   "source": []
  },
  {
   "cell_type": "code",
   "execution_count": null,
   "id": "96775249",
   "metadata": {},
   "outputs": [],
   "source": []
  },
  {
   "cell_type": "code",
   "execution_count": null,
   "id": "edbab33f",
   "metadata": {},
   "outputs": [],
   "source": [
    "new=pd.read_html(\"BURAYA ADRESİN LİNKİ\",header=0) \n",
    "new[0]\n",
    "#BU ŞEKİLDE HTML SAYFASI OKUNUR. new[0] BURADA HTML SAYFASIDNDAKİ İLK TABLOYU GÖSTERİR.\n",
    "#header=0 BU İŞLEMİ YAPMADAN ÖNCE ÇALIŞTIRILDIĞINDA, HTML SAYFASINDAKİ BAŞLIK KISMI BURADA İNDEX ŞEKLİNDE GÖRÜNÜR.\n",
    "#INDEX HALINDE 0. INDEX OLARAK GÖRÜNDÜĞÜ İÇİN  header=0 DENİLEREK KOLON HALİNE GETİRİLİR."
   ]
  }
 ],
 "metadata": {
  "kernelspec": {
   "display_name": "Python 3 (ipykernel)",
   "language": "python",
   "name": "python3"
  },
  "language_info": {
   "codemirror_mode": {
    "name": "ipython",
    "version": 3
   },
   "file_extension": ".py",
   "mimetype": "text/x-python",
   "name": "python",
   "nbconvert_exporter": "python",
   "pygments_lexer": "ipython3",
   "version": "3.11.3"
  }
 },
 "nbformat": 4,
 "nbformat_minor": 5
}
