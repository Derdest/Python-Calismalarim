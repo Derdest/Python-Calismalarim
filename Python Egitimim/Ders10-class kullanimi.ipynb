{
 "cells": [
  {
   "cell_type": "code",
   "execution_count": 2,
   "id": "5ebec3fc",
   "metadata": {},
   "outputs": [
    {
     "name": "stdout",
     "output_type": "stream",
     "text": [
      "1\n",
      "3\n",
      "9\n",
      "27\n",
      "81\n",
      "243\n",
      "729\n"
     ]
    }
   ],
   "source": [
    "class Kuvvet3():\n",
    "    def __init__(self,max = 0):\n",
    "\n",
    "        self.max = max\n",
    "        self.kuvvet = 0\n",
    "\n",
    "    def __iter__(self):\n",
    "\n",
    "        return self\n",
    "    def __next__(self):\n",
    "        if (self.kuvvet <= self.max):\n",
    "            sonuc = 3 ** self.kuvvet\n",
    "\n",
    "            self.kuvvet += 1\n",
    "\n",
    "            return sonuc\n",
    "        else:\n",
    "            self.kuvvet = 0\n",
    "            raise StopIteration\n",
    "\n",
    "\n",
    "kuvvet = Kuvvet3(6)\n",
    "\n",
    "for i in kuvvet:\n",
    "    print(i)\n",
    "\n",
    "\n",
    "\n",
    "\n",
    "\n",
    "\n",
    "\n",
    "\n",
    "\n",
    "\n"
   ]
  },
  {
   "cell_type": "code",
   "execution_count": null,
   "id": "76fbb9bd",
   "metadata": {},
   "outputs": [],
   "source": []
  },
  {
   "cell_type": "code",
   "execution_count": null,
   "id": "24ef7ed3",
   "metadata": {},
   "outputs": [],
   "source": []
  }
 ],
 "metadata": {
  "kernelspec": {
   "display_name": "Python 3 (ipykernel)",
   "language": "python",
   "name": "python3"
  },
  "language_info": {
   "codemirror_mode": {
    "name": "ipython",
    "version": 3
   },
   "file_extension": ".py",
   "mimetype": "text/x-python",
   "name": "python",
   "nbconvert_exporter": "python",
   "pygments_lexer": "ipython3",
   "version": "3.11.3"
  }
 },
 "nbformat": 4,
 "nbformat_minor": 5
}
