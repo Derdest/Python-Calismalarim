{
 "cells": [
  {
   "cell_type": "code",
   "execution_count": 4,
   "id": "770492e7",
   "metadata": {},
   "outputs": [],
   "source": [
    "#             Elinizde uzunca bir string olsun.\n",
    "\n",
    "#            \"ProgramlamaÖdeviİleriSeviyeVeriYapılarıveObjeleripynb\"\n",
    "\n",
    "#            Bu string içindeki harflerin frekansını (bir harfin kaç defa geçtiği) bulmaya çalışın."
   ]
  },
  {
   "cell_type": "code",
   "execution_count": 123,
   "id": "baa7834e",
   "metadata": {},
   "outputs": [
    {
     "name": "stdout",
     "output_type": "stream",
     "text": [
      "P 1\n",
      "r 6\n",
      "o 1\n",
      "g 1\n",
      "a 5\n",
      "m 2\n",
      "l 4\n",
      "Ö 1\n",
      "d 1\n",
      "e 8\n",
      "v 3\n",
      "i 5\n",
      "İ 1\n",
      "S 1\n",
      "y 2\n",
      "V 1\n",
      "Y 1\n",
      "p 2\n",
      "ı 2\n",
      "O 1\n",
      "b 2\n",
      "j 1\n",
      "n 1\n"
     ]
    }
   ],
   "source": [
    "s =  \"ProgramlamaÖdeviİleriSeviyeVeriYapılarıveObjeleripynb\"\n",
    "frekans = dict()\n",
    "for i in s:\n",
    "    if(i in frekans):\n",
    "        frekans[i]+=1\n",
    "    else:\n",
    "        frekans[i]=1\n",
    "for i,j in frekans.items():\n",
    "    print(i,j)"
   ]
  },
  {
   "cell_type": "code",
   "execution_count": null,
   "id": "a5ac0bea",
   "metadata": {},
   "outputs": [],
   "source": []
  },
  {
   "cell_type": "code",
   "execution_count": 137,
   "id": "018ae079",
   "metadata": {},
   "outputs": [],
   "source": [
    "with open(\"şiir.txt\",\"w\",encoding=\"utf-8\") as file:\n",
    "    file.write(\"\")"
   ]
  },
  {
   "cell_type": "code",
   "execution_count": 153,
   "id": "a9f6fe09",
   "metadata": {},
   "outputs": [
    {
     "name": "stdout",
     "output_type": "stream",
     "text": [
      "MUSTAFAKEMAL\n"
     ]
    }
   ],
   "source": [
    "baş_harf= \"\"\n",
    "with open(\"şiir.txt\",\"r\",encoding=\"utf-8\") as file:\n",
    "    for i in file:\n",
    "        baş_harf+=i[0]\n",
    "    print(baş_harf)"
   ]
  },
  {
   "cell_type": "code",
   "execution_count": 152,
   "id": "2185ca78",
   "metadata": {},
   "outputs": [],
   "source": []
  },
  {
   "cell_type": "code",
   "execution_count": 170,
   "id": "124f4ab4",
   "metadata": {},
   "outputs": [
    {
     "name": "stdout",
     "output_type": "stream",
     "text": [
      "coskun.m.murat@gmail.com\n",
      "example@xyz.com\n",
      "kerim@yahoo.com\n",
      "ha@k£@ndf.com\n"
     ]
    }
   ],
   "source": [
    "with open(\"mailler.txt\",\"r\",encoding=\"utf-8\") as file:\n",
    "    for satır in file:\n",
    "        satır=satır[:-1]\n",
    "        if(satır.endswith(\".com\") and satır.find(\"@\")!=-1):\n",
    "            print(satır)\n",
    "        "
   ]
  },
  {
   "cell_type": "code",
   "execution_count": null,
   "id": "7e83d5d5",
   "metadata": {},
   "outputs": [],
   "source": []
  },
  {
   "cell_type": "code",
   "execution_count": 203,
   "id": "4f873fd2",
   "metadata": {},
   "outputs": [],
   "source": [
    "isim=[\"Kerim\",\"Tarık\",\"Ezgi\",\"Kemal\",\"Ilkay\",\"Sükran\",\"Merve\"]\n",
    "soyisim=[\"Yılmaz\",\"Öztürk\",\"Dağdeviren\",\"Atatürk\",\"Dikmen\",\"Kaya\",\"Polat\"]\n",
    "liste=list(zip(isim,soyisim))\n",
    "liste.sort()"
   ]
  },
  {
   "cell_type": "code",
   "execution_count": 206,
   "id": "f99b8942",
   "metadata": {},
   "outputs": [
    {
     "name": "stdout",
     "output_type": "stream",
     "text": [
      "Ezgi Dağdeviren\n",
      "Ilkay Dikmen\n",
      "Kemal Atatürk\n",
      "Kerim Yılmaz\n",
      "Merve Polat\n",
      "Sükran Kaya\n",
      "Tarık Öztürk\n"
     ]
    }
   ],
   "source": [
    "for i,j in liste:\n",
    "    print(i,j)"
   ]
  },
  {
   "cell_type": "code",
   "execution_count": null,
   "id": "3e1db892",
   "metadata": {},
   "outputs": [],
   "source": []
  },
  {
   "cell_type": "code",
   "execution_count": 208,
   "id": "96687b7a",
   "metadata": {},
   "outputs": [
    {
     "name": "stdout",
     "output_type": "stream",
     "text": [
      "coskun.m.murat@gmail.com\n",
      "example@xyz.com\n",
      "mustafa.com\n",
      "mustafa@gmail\n",
      "kerim@yahoo.com\n",
      "dsfsdsdds\n",
      "dfgfgş.ffi6565\n",
      "fdşçdfşbvcbc\n",
      "ha@k£@ndf.com\n",
      "\n",
      "\n",
      "//\n",
      "//\n",
      "//\n"
     ]
    }
   ],
   "source": [
    "with open(\"mailler.txt\",\"r\",encoding=\"utf-8\") as file:\n",
    "    for satır in file:\n",
    "        print(satır[:-1])\n",
    "        if(satır.endswith(\".com\") and satır.find(\"@\")!=-1):\n",
    "            print(satır)\n",
    "        "
   ]
  },
  {
   "cell_type": "code",
   "execution_count": null,
   "id": "ab7f290d",
   "metadata": {},
   "outputs": [],
   "source": []
  },
  {
   "cell_type": "code",
   "execution_count": 215,
   "id": "a8234444",
   "metadata": {},
   "outputs": [
    {
     "name": "stdout",
     "output_type": "stream",
     "text": [
      "['Ezgi', 'Kemal', 'Kerim', 'Merve', 'Tarık', 'İlkay', 'Şükran']\n"
     ]
    },
    {
     "ename": "KeyError",
     "evalue": "'Ezgi'",
     "output_type": "error",
     "traceback": [
      "\u001b[1;31m---------------------------------------------------------------------------\u001b[0m",
      "\u001b[1;31mKeyError\u001b[0m                                  Traceback (most recent call last)",
      "Cell \u001b[1;32mIn[215], line 14\u001b[0m\n\u001b[0;32m     12\u001b[0m list4\u001b[38;5;241m=\u001b[39m\u001b[38;5;28mlist\u001b[39m()\n\u001b[0;32m     13\u001b[0m \u001b[38;5;28;01mfor\u001b[39;00m isim \u001b[38;5;129;01min\u001b[39;00m list3:\n\u001b[1;32m---> 14\u001b[0m     list4\u001b[38;5;241m.\u001b[39mappend(sozluk[isim])\n\u001b[0;32m     15\u001b[0m \u001b[38;5;28mprint\u001b[39m(list4)\n",
      "\u001b[1;31mKeyError\u001b[0m: 'Ezgi'"
     ]
    }
   ],
   "source": [
    "list1=[\"Kerim\",\"Tarık\",\"Ezgi\",\"Kemal\",\"İlkay\",\"Şükran\",\"Merve\"]\n",
    "list2=[\"Yılmaz\",\"Öztürk\",\"Dağdeviren\",\"Atatürk\",\"Dikmen\",\"Kaya\",\"Polat\"]\n",
    "sozluk=dict()\n",
    "say=0\n",
    "for i in list1:\n",
    "    sozluk[i]=list2[say]\n",
    "    say+=1\n",
    "    list1.sort()\n",
    "    list3=list1\n",
    "print(list3)\n",
    "\n",
    "list4=list()\n",
    "for isim in list3:\n",
    "    list4.append(sozluk[isim])\n",
    "print(list4)"
   ]
  },
  {
   "cell_type": "code",
   "execution_count": null,
   "id": "bf1a449f",
   "metadata": {},
   "outputs": [],
   "source": []
  }
 ],
 "metadata": {
  "kernelspec": {
   "display_name": "Python 3 (ipykernel)",
   "language": "python",
   "name": "python3"
  },
  "language_info": {
   "codemirror_mode": {
    "name": "ipython",
    "version": 3
   },
   "file_extension": ".py",
   "mimetype": "text/x-python",
   "name": "python",
   "nbconvert_exporter": "python",
   "pygments_lexer": "ipython3",
   "version": "3.11.3"
  }
 },
 "nbformat": 4,
 "nbformat_minor": 5
}
