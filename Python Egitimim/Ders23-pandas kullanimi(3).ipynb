{
 "cells": [
  {
   "cell_type": "code",
   "execution_count": 2,
   "id": "a1c826d5",
   "metadata": {},
   "outputs": [],
   "source": [
    "import numpy as np\n",
    "import pandas as pd\n",
    "from numpy.random import randn"
   ]
  },
  {
   "cell_type": "code",
   "execution_count": 4,
   "id": "cabb7001",
   "metadata": {},
   "outputs": [],
   "source": [
    "df=pd.DataFrame(randn(4,3),[\"A\",\"B\",\"C\",\"D\"],[\"Kolon1\",\"Kolon2\",\"Kolon3\"])"
   ]
  },
  {
   "cell_type": "code",
   "execution_count": 6,
   "id": "9ad4bd72",
   "metadata": {},
   "outputs": [
    {
     "data": {
      "text/html": [
       "<div>\n",
       "<style scoped>\n",
       "    .dataframe tbody tr th:only-of-type {\n",
       "        vertical-align: middle;\n",
       "    }\n",
       "\n",
       "    .dataframe tbody tr th {\n",
       "        vertical-align: top;\n",
       "    }\n",
       "\n",
       "    .dataframe thead th {\n",
       "        text-align: right;\n",
       "    }\n",
       "</style>\n",
       "<table border=\"1\" class=\"dataframe\">\n",
       "  <thead>\n",
       "    <tr style=\"text-align: right;\">\n",
       "      <th></th>\n",
       "      <th>Kolon1</th>\n",
       "      <th>Kolon2</th>\n",
       "      <th>Kolon3</th>\n",
       "    </tr>\n",
       "  </thead>\n",
       "  <tbody>\n",
       "    <tr>\n",
       "      <th>A</th>\n",
       "      <td>-2.410381</td>\n",
       "      <td>0.924931</td>\n",
       "      <td>-1.113329</td>\n",
       "    </tr>\n",
       "    <tr>\n",
       "      <th>B</th>\n",
       "      <td>-0.271926</td>\n",
       "      <td>-0.634828</td>\n",
       "      <td>-0.057505</td>\n",
       "    </tr>\n",
       "    <tr>\n",
       "      <th>C</th>\n",
       "      <td>-0.413986</td>\n",
       "      <td>0.010533</td>\n",
       "      <td>0.389517</td>\n",
       "    </tr>\n",
       "    <tr>\n",
       "      <th>D</th>\n",
       "      <td>0.315817</td>\n",
       "      <td>0.795108</td>\n",
       "      <td>0.126387</td>\n",
       "    </tr>\n",
       "  </tbody>\n",
       "</table>\n",
       "</div>"
      ],
      "text/plain": [
       "     Kolon1    Kolon2    Kolon3\n",
       "A -2.410381  0.924931 -1.113329\n",
       "B -0.271926 -0.634828 -0.057505\n",
       "C -0.413986  0.010533  0.389517\n",
       "D  0.315817  0.795108  0.126387"
      ]
     },
     "execution_count": 6,
     "metadata": {},
     "output_type": "execute_result"
    }
   ],
   "source": [
    "df"
   ]
  },
  {
   "cell_type": "code",
   "execution_count": 7,
   "id": "a48ad96b",
   "metadata": {},
   "outputs": [
    {
     "data": {
      "text/html": [
       "<div>\n",
       "<style scoped>\n",
       "    .dataframe tbody tr th:only-of-type {\n",
       "        vertical-align: middle;\n",
       "    }\n",
       "\n",
       "    .dataframe tbody tr th {\n",
       "        vertical-align: top;\n",
       "    }\n",
       "\n",
       "    .dataframe thead th {\n",
       "        text-align: right;\n",
       "    }\n",
       "</style>\n",
       "<table border=\"1\" class=\"dataframe\">\n",
       "  <thead>\n",
       "    <tr style=\"text-align: right;\">\n",
       "      <th></th>\n",
       "      <th>Kolon1</th>\n",
       "      <th>Kolon2</th>\n",
       "      <th>Kolon3</th>\n",
       "    </tr>\n",
       "  </thead>\n",
       "  <tbody>\n",
       "    <tr>\n",
       "      <th>A</th>\n",
       "      <td>False</td>\n",
       "      <td>True</td>\n",
       "      <td>False</td>\n",
       "    </tr>\n",
       "    <tr>\n",
       "      <th>B</th>\n",
       "      <td>True</td>\n",
       "      <td>True</td>\n",
       "      <td>True</td>\n",
       "    </tr>\n",
       "    <tr>\n",
       "      <th>C</th>\n",
       "      <td>True</td>\n",
       "      <td>True</td>\n",
       "      <td>True</td>\n",
       "    </tr>\n",
       "    <tr>\n",
       "      <th>D</th>\n",
       "      <td>True</td>\n",
       "      <td>True</td>\n",
       "      <td>True</td>\n",
       "    </tr>\n",
       "  </tbody>\n",
       "</table>\n",
       "</div>"
      ],
      "text/plain": [
       "   Kolon1  Kolon2  Kolon3\n",
       "A   False    True   False\n",
       "B    True    True    True\n",
       "C    True    True    True\n",
       "D    True    True    True"
      ]
     },
     "execution_count": 7,
     "metadata": {},
     "output_type": "execute_result"
    }
   ],
   "source": [
    "df > -1"
   ]
  },
  {
   "cell_type": "code",
   "execution_count": 8,
   "id": "a7b4ce9b",
   "metadata": {},
   "outputs": [
    {
     "data": {
      "text/html": [
       "<div>\n",
       "<style scoped>\n",
       "    .dataframe tbody tr th:only-of-type {\n",
       "        vertical-align: middle;\n",
       "    }\n",
       "\n",
       "    .dataframe tbody tr th {\n",
       "        vertical-align: top;\n",
       "    }\n",
       "\n",
       "    .dataframe thead th {\n",
       "        text-align: right;\n",
       "    }\n",
       "</style>\n",
       "<table border=\"1\" class=\"dataframe\">\n",
       "  <thead>\n",
       "    <tr style=\"text-align: right;\">\n",
       "      <th></th>\n",
       "      <th>Kolon1</th>\n",
       "      <th>Kolon2</th>\n",
       "      <th>Kolon3</th>\n",
       "    </tr>\n",
       "  </thead>\n",
       "  <tbody>\n",
       "    <tr>\n",
       "      <th>A</th>\n",
       "      <td>False</td>\n",
       "      <td>True</td>\n",
       "      <td>False</td>\n",
       "    </tr>\n",
       "    <tr>\n",
       "      <th>B</th>\n",
       "      <td>False</td>\n",
       "      <td>False</td>\n",
       "      <td>False</td>\n",
       "    </tr>\n",
       "    <tr>\n",
       "      <th>C</th>\n",
       "      <td>False</td>\n",
       "      <td>True</td>\n",
       "      <td>True</td>\n",
       "    </tr>\n",
       "    <tr>\n",
       "      <th>D</th>\n",
       "      <td>True</td>\n",
       "      <td>True</td>\n",
       "      <td>True</td>\n",
       "    </tr>\n",
       "  </tbody>\n",
       "</table>\n",
       "</div>"
      ],
      "text/plain": [
       "   Kolon1  Kolon2  Kolon3\n",
       "A   False    True   False\n",
       "B   False   False   False\n",
       "C   False    True    True\n",
       "D    True    True    True"
      ]
     },
     "execution_count": 8,
     "metadata": {},
     "output_type": "execute_result"
    }
   ],
   "source": [
    "df>0"
   ]
  },
  {
   "cell_type": "code",
   "execution_count": 12,
   "id": "afb7359f",
   "metadata": {},
   "outputs": [],
   "source": [
    "booleanDf=df>0"
   ]
  },
  {
   "cell_type": "code",
   "execution_count": 13,
   "id": "4a6321de",
   "metadata": {},
   "outputs": [
    {
     "data": {
      "text/html": [
       "<div>\n",
       "<style scoped>\n",
       "    .dataframe tbody tr th:only-of-type {\n",
       "        vertical-align: middle;\n",
       "    }\n",
       "\n",
       "    .dataframe tbody tr th {\n",
       "        vertical-align: top;\n",
       "    }\n",
       "\n",
       "    .dataframe thead th {\n",
       "        text-align: right;\n",
       "    }\n",
       "</style>\n",
       "<table border=\"1\" class=\"dataframe\">\n",
       "  <thead>\n",
       "    <tr style=\"text-align: right;\">\n",
       "      <th></th>\n",
       "      <th>Kolon1</th>\n",
       "      <th>Kolon2</th>\n",
       "      <th>Kolon3</th>\n",
       "    </tr>\n",
       "  </thead>\n",
       "  <tbody>\n",
       "    <tr>\n",
       "      <th>A</th>\n",
       "      <td>False</td>\n",
       "      <td>True</td>\n",
       "      <td>False</td>\n",
       "    </tr>\n",
       "    <tr>\n",
       "      <th>B</th>\n",
       "      <td>False</td>\n",
       "      <td>False</td>\n",
       "      <td>False</td>\n",
       "    </tr>\n",
       "    <tr>\n",
       "      <th>C</th>\n",
       "      <td>False</td>\n",
       "      <td>True</td>\n",
       "      <td>True</td>\n",
       "    </tr>\n",
       "    <tr>\n",
       "      <th>D</th>\n",
       "      <td>True</td>\n",
       "      <td>True</td>\n",
       "      <td>True</td>\n",
       "    </tr>\n",
       "  </tbody>\n",
       "</table>\n",
       "</div>"
      ],
      "text/plain": [
       "   Kolon1  Kolon2  Kolon3\n",
       "A   False    True   False\n",
       "B   False   False   False\n",
       "C   False    True    True\n",
       "D    True    True    True"
      ]
     },
     "execution_count": 13,
     "metadata": {},
     "output_type": "execute_result"
    }
   ],
   "source": [
    "booleanDf"
   ]
  },
  {
   "cell_type": "code",
   "execution_count": 14,
   "id": "2edfd3de",
   "metadata": {},
   "outputs": [
    {
     "data": {
      "text/html": [
       "<div>\n",
       "<style scoped>\n",
       "    .dataframe tbody tr th:only-of-type {\n",
       "        vertical-align: middle;\n",
       "    }\n",
       "\n",
       "    .dataframe tbody tr th {\n",
       "        vertical-align: top;\n",
       "    }\n",
       "\n",
       "    .dataframe thead th {\n",
       "        text-align: right;\n",
       "    }\n",
       "</style>\n",
       "<table border=\"1\" class=\"dataframe\">\n",
       "  <thead>\n",
       "    <tr style=\"text-align: right;\">\n",
       "      <th></th>\n",
       "      <th>Kolon1</th>\n",
       "      <th>Kolon2</th>\n",
       "      <th>Kolon3</th>\n",
       "    </tr>\n",
       "  </thead>\n",
       "  <tbody>\n",
       "    <tr>\n",
       "      <th>A</th>\n",
       "      <td>NaN</td>\n",
       "      <td>0.924931</td>\n",
       "      <td>NaN</td>\n",
       "    </tr>\n",
       "    <tr>\n",
       "      <th>B</th>\n",
       "      <td>NaN</td>\n",
       "      <td>NaN</td>\n",
       "      <td>NaN</td>\n",
       "    </tr>\n",
       "    <tr>\n",
       "      <th>C</th>\n",
       "      <td>NaN</td>\n",
       "      <td>0.010533</td>\n",
       "      <td>0.389517</td>\n",
       "    </tr>\n",
       "    <tr>\n",
       "      <th>D</th>\n",
       "      <td>0.315817</td>\n",
       "      <td>0.795108</td>\n",
       "      <td>0.126387</td>\n",
       "    </tr>\n",
       "  </tbody>\n",
       "</table>\n",
       "</div>"
      ],
      "text/plain": [
       "     Kolon1    Kolon2    Kolon3\n",
       "A       NaN  0.924931       NaN\n",
       "B       NaN       NaN       NaN\n",
       "C       NaN  0.010533  0.389517\n",
       "D  0.315817  0.795108  0.126387"
      ]
     },
     "execution_count": 14,
     "metadata": {},
     "output_type": "execute_result"
    }
   ],
   "source": [
    "df[booleanDf]"
   ]
  },
  {
   "cell_type": "code",
   "execution_count": 15,
   "id": "f3bccf03",
   "metadata": {},
   "outputs": [
    {
     "data": {
      "text/html": [
       "<div>\n",
       "<style scoped>\n",
       "    .dataframe tbody tr th:only-of-type {\n",
       "        vertical-align: middle;\n",
       "    }\n",
       "\n",
       "    .dataframe tbody tr th {\n",
       "        vertical-align: top;\n",
       "    }\n",
       "\n",
       "    .dataframe thead th {\n",
       "        text-align: right;\n",
       "    }\n",
       "</style>\n",
       "<table border=\"1\" class=\"dataframe\">\n",
       "  <thead>\n",
       "    <tr style=\"text-align: right;\">\n",
       "      <th></th>\n",
       "      <th>Kolon1</th>\n",
       "      <th>Kolon2</th>\n",
       "      <th>Kolon3</th>\n",
       "    </tr>\n",
       "  </thead>\n",
       "  <tbody>\n",
       "    <tr>\n",
       "      <th>A</th>\n",
       "      <td>NaN</td>\n",
       "      <td>0.924931</td>\n",
       "      <td>NaN</td>\n",
       "    </tr>\n",
       "    <tr>\n",
       "      <th>B</th>\n",
       "      <td>NaN</td>\n",
       "      <td>NaN</td>\n",
       "      <td>NaN</td>\n",
       "    </tr>\n",
       "    <tr>\n",
       "      <th>C</th>\n",
       "      <td>NaN</td>\n",
       "      <td>0.010533</td>\n",
       "      <td>0.389517</td>\n",
       "    </tr>\n",
       "    <tr>\n",
       "      <th>D</th>\n",
       "      <td>0.315817</td>\n",
       "      <td>0.795108</td>\n",
       "      <td>0.126387</td>\n",
       "    </tr>\n",
       "  </tbody>\n",
       "</table>\n",
       "</div>"
      ],
      "text/plain": [
       "     Kolon1    Kolon2    Kolon3\n",
       "A       NaN  0.924931       NaN\n",
       "B       NaN       NaN       NaN\n",
       "C       NaN  0.010533  0.389517\n",
       "D  0.315817  0.795108  0.126387"
      ]
     },
     "execution_count": 15,
     "metadata": {},
     "output_type": "execute_result"
    }
   ],
   "source": [
    "df[df>0]  #df>0 değerleri filtreler"
   ]
  },
  {
   "cell_type": "code",
   "execution_count": 16,
   "id": "95e19c00",
   "metadata": {},
   "outputs": [
    {
     "data": {
      "text/plain": [
       "A   -2.410381\n",
       "B   -0.271926\n",
       "C   -0.413986\n",
       "D    0.315817\n",
       "Name: Kolon1, dtype: float64"
      ]
     },
     "execution_count": 16,
     "metadata": {},
     "output_type": "execute_result"
    }
   ],
   "source": [
    "df[\"Kolon1\"]"
   ]
  },
  {
   "cell_type": "code",
   "execution_count": 17,
   "id": "61c2a5c3",
   "metadata": {},
   "outputs": [
    {
     "data": {
      "text/plain": [
       "A    False\n",
       "B    False\n",
       "C    False\n",
       "D     True\n",
       "Name: Kolon1, dtype: bool"
      ]
     },
     "execution_count": 17,
     "metadata": {},
     "output_type": "execute_result"
    }
   ],
   "source": [
    "df[\"Kolon1\"]>0"
   ]
  },
  {
   "cell_type": "code",
   "execution_count": 20,
   "id": "bdf437a5",
   "metadata": {},
   "outputs": [
    {
     "data": {
      "text/html": [
       "<div>\n",
       "<style scoped>\n",
       "    .dataframe tbody tr th:only-of-type {\n",
       "        vertical-align: middle;\n",
       "    }\n",
       "\n",
       "    .dataframe tbody tr th {\n",
       "        vertical-align: top;\n",
       "    }\n",
       "\n",
       "    .dataframe thead th {\n",
       "        text-align: right;\n",
       "    }\n",
       "</style>\n",
       "<table border=\"1\" class=\"dataframe\">\n",
       "  <thead>\n",
       "    <tr style=\"text-align: right;\">\n",
       "      <th></th>\n",
       "      <th>Kolon1</th>\n",
       "      <th>Kolon2</th>\n",
       "      <th>Kolon3</th>\n",
       "    </tr>\n",
       "  </thead>\n",
       "  <tbody>\n",
       "    <tr>\n",
       "      <th>D</th>\n",
       "      <td>0.315817</td>\n",
       "      <td>0.795108</td>\n",
       "      <td>0.126387</td>\n",
       "    </tr>\n",
       "  </tbody>\n",
       "</table>\n",
       "</div>"
      ],
      "text/plain": [
       "     Kolon1    Kolon2    Kolon3\n",
       "D  0.315817  0.795108  0.126387"
      ]
     },
     "execution_count": 20,
     "metadata": {},
     "output_type": "execute_result"
    }
   ],
   "source": [
    "df[df[\"Kolon1\"]>0]  #df[\"Kolon1\"]>0 değerleri filtreler.Yani false dönenleri filtreleyip True ları gösterir.\n",
    "                    #İlk df değeri de bütün kolonları göstermesi talimatını verir."
   ]
  },
  {
   "cell_type": "code",
   "execution_count": 33,
   "id": "3a3f81a2",
   "metadata": {},
   "outputs": [
    {
     "data": {
      "text/plain": [
       "A    False\n",
       "B     True\n",
       "C     True\n",
       "D     True\n",
       "Name: Kolon1, dtype: bool"
      ]
     },
     "execution_count": 33,
     "metadata": {},
     "output_type": "execute_result"
    }
   ],
   "source": [
    "df[\"Kolon1\"]>-0.5"
   ]
  },
  {
   "cell_type": "code",
   "execution_count": 35,
   "id": "d73eb6fe",
   "metadata": {},
   "outputs": [
    {
     "data": {
      "text/html": [
       "<div>\n",
       "<style scoped>\n",
       "    .dataframe tbody tr th:only-of-type {\n",
       "        vertical-align: middle;\n",
       "    }\n",
       "\n",
       "    .dataframe tbody tr th {\n",
       "        vertical-align: top;\n",
       "    }\n",
       "\n",
       "    .dataframe thead th {\n",
       "        text-align: right;\n",
       "    }\n",
       "</style>\n",
       "<table border=\"1\" class=\"dataframe\">\n",
       "  <thead>\n",
       "    <tr style=\"text-align: right;\">\n",
       "      <th></th>\n",
       "      <th>Kolon1</th>\n",
       "      <th>Kolon2</th>\n",
       "      <th>Kolon3</th>\n",
       "    </tr>\n",
       "  </thead>\n",
       "  <tbody>\n",
       "    <tr>\n",
       "      <th>B</th>\n",
       "      <td>-0.271926</td>\n",
       "      <td>-0.634828</td>\n",
       "      <td>-0.057505</td>\n",
       "    </tr>\n",
       "    <tr>\n",
       "      <th>C</th>\n",
       "      <td>-0.413986</td>\n",
       "      <td>0.010533</td>\n",
       "      <td>0.389517</td>\n",
       "    </tr>\n",
       "    <tr>\n",
       "      <th>D</th>\n",
       "      <td>0.315817</td>\n",
       "      <td>0.795108</td>\n",
       "      <td>0.126387</td>\n",
       "    </tr>\n",
       "  </tbody>\n",
       "</table>\n",
       "</div>"
      ],
      "text/plain": [
       "     Kolon1    Kolon2    Kolon3\n",
       "B -0.271926 -0.634828 -0.057505\n",
       "C -0.413986  0.010533  0.389517\n",
       "D  0.315817  0.795108  0.126387"
      ]
     },
     "execution_count": 35,
     "metadata": {},
     "output_type": "execute_result"
    }
   ],
   "source": [
    "df[df[\"Kolon1\"]>-0.5]  #Burada A false döndüğü için A yı filtreledi."
   ]
  },
  {
   "cell_type": "code",
   "execution_count": 38,
   "id": "bee91bbc",
   "metadata": {},
   "outputs": [
    {
     "data": {
      "text/html": [
       "<div>\n",
       "<style scoped>\n",
       "    .dataframe tbody tr th:only-of-type {\n",
       "        vertical-align: middle;\n",
       "    }\n",
       "\n",
       "    .dataframe tbody tr th {\n",
       "        vertical-align: top;\n",
       "    }\n",
       "\n",
       "    .dataframe thead th {\n",
       "        text-align: right;\n",
       "    }\n",
       "</style>\n",
       "<table border=\"1\" class=\"dataframe\">\n",
       "  <thead>\n",
       "    <tr style=\"text-align: right;\">\n",
       "      <th></th>\n",
       "      <th>Kolon1</th>\n",
       "      <th>Kolon2</th>\n",
       "      <th>Kolon3</th>\n",
       "    </tr>\n",
       "  </thead>\n",
       "  <tbody>\n",
       "    <tr>\n",
       "      <th>C</th>\n",
       "      <td>-0.413986</td>\n",
       "      <td>0.010533</td>\n",
       "      <td>0.389517</td>\n",
       "    </tr>\n",
       "    <tr>\n",
       "      <th>D</th>\n",
       "      <td>0.315817</td>\n",
       "      <td>0.795108</td>\n",
       "      <td>0.126387</td>\n",
       "    </tr>\n",
       "  </tbody>\n",
       "</table>\n",
       "</div>"
      ],
      "text/plain": [
       "     Kolon1    Kolon2    Kolon3\n",
       "C -0.413986  0.010533  0.389517\n",
       "D  0.315817  0.795108  0.126387"
      ]
     },
     "execution_count": 38,
     "metadata": {},
     "output_type": "execute_result"
    }
   ],
   "source": [
    "df[df[\"Kolon3\"]>0.1]"
   ]
  },
  {
   "cell_type": "code",
   "execution_count": 42,
   "id": "e1a08583",
   "metadata": {},
   "outputs": [
    {
     "data": {
      "text/html": [
       "<div>\n",
       "<style scoped>\n",
       "    .dataframe tbody tr th:only-of-type {\n",
       "        vertical-align: middle;\n",
       "    }\n",
       "\n",
       "    .dataframe tbody tr th {\n",
       "        vertical-align: top;\n",
       "    }\n",
       "\n",
       "    .dataframe thead th {\n",
       "        text-align: right;\n",
       "    }\n",
       "</style>\n",
       "<table border=\"1\" class=\"dataframe\">\n",
       "  <thead>\n",
       "    <tr style=\"text-align: right;\">\n",
       "      <th></th>\n",
       "      <th>Kolon1</th>\n",
       "      <th>Kolon2</th>\n",
       "      <th>Kolon3</th>\n",
       "    </tr>\n",
       "  </thead>\n",
       "  <tbody>\n",
       "    <tr>\n",
       "      <th>C</th>\n",
       "      <td>-0.413986</td>\n",
       "      <td>0.010533</td>\n",
       "      <td>0.389517</td>\n",
       "    </tr>\n",
       "    <tr>\n",
       "      <th>D</th>\n",
       "      <td>0.315817</td>\n",
       "      <td>0.795108</td>\n",
       "      <td>0.126387</td>\n",
       "    </tr>\n",
       "  </tbody>\n",
       "</table>\n",
       "</div>"
      ],
      "text/plain": [
       "     Kolon1    Kolon2    Kolon3\n",
       "C -0.413986  0.010533  0.389517\n",
       "D  0.315817  0.795108  0.126387"
      ]
     },
     "execution_count": 42,
     "metadata": {},
     "output_type": "execute_result"
    }
   ],
   "source": [
    "df[(df[\"Kolon1\"]>-0.5) & (df[\"Kolon3\"]>0.1)]   #BURADA & and anlamına gelir. df[\"Kolon1\"]>-0.5 ve df[\"Kolon3\"]>0.1 toplandı.\n",
    "                                               #C VE D ORTAK OLDUĞU İÇİN C VE D Yİ YAZDIRDI"
   ]
  },
  {
   "cell_type": "code",
   "execution_count": 46,
   "id": "e5962dce",
   "metadata": {},
   "outputs": [
    {
     "data": {
      "text/html": [
       "<div>\n",
       "<style scoped>\n",
       "    .dataframe tbody tr th:only-of-type {\n",
       "        vertical-align: middle;\n",
       "    }\n",
       "\n",
       "    .dataframe tbody tr th {\n",
       "        vertical-align: top;\n",
       "    }\n",
       "\n",
       "    .dataframe thead th {\n",
       "        text-align: right;\n",
       "    }\n",
       "</style>\n",
       "<table border=\"1\" class=\"dataframe\">\n",
       "  <thead>\n",
       "    <tr style=\"text-align: right;\">\n",
       "      <th></th>\n",
       "      <th>Kolon1</th>\n",
       "      <th>Kolon2</th>\n",
       "      <th>Kolon3</th>\n",
       "    </tr>\n",
       "  </thead>\n",
       "  <tbody>\n",
       "    <tr>\n",
       "      <th>B</th>\n",
       "      <td>-0.271926</td>\n",
       "      <td>-0.634828</td>\n",
       "      <td>-0.057505</td>\n",
       "    </tr>\n",
       "    <tr>\n",
       "      <th>C</th>\n",
       "      <td>-0.413986</td>\n",
       "      <td>0.010533</td>\n",
       "      <td>0.389517</td>\n",
       "    </tr>\n",
       "    <tr>\n",
       "      <th>D</th>\n",
       "      <td>0.315817</td>\n",
       "      <td>0.795108</td>\n",
       "      <td>0.126387</td>\n",
       "    </tr>\n",
       "  </tbody>\n",
       "</table>\n",
       "</div>"
      ],
      "text/plain": [
       "     Kolon1    Kolon2    Kolon3\n",
       "B -0.271926 -0.634828 -0.057505\n",
       "C -0.413986  0.010533  0.389517\n",
       "D  0.315817  0.795108  0.126387"
      ]
     },
     "execution_count": 46,
     "metadata": {},
     "output_type": "execute_result"
    }
   ],
   "source": [
    "df[(df[\"Kolon1\"]>-0.5) | (df[\"Kolon3\"]>0.1)]#BURADA | or anlamına gelir. df[\"Kolon1\"]>-0.5 veya olarak df[\"Kolon3\"]>0.1 toplandı\n",
    "                                            #Birisinde B,C,D DİĞERİNDE C,D OLDUĞU İÇİN B,C,D LER BASTIRILDI.\n",
    "                                            #SADECE BİRİSİNDE A OLSAYDI A,B,C,D YAZDIRILACAKTI."
   ]
  },
  {
   "cell_type": "code",
   "execution_count": 47,
   "id": "21ff1f06",
   "metadata": {},
   "outputs": [],
   "source": [
    "df[\"Kolon4\"]=pd.Series(randn(4),[\"A\",\"B\",\"C\",\"D\"])"
   ]
  },
  {
   "cell_type": "code",
   "execution_count": 48,
   "id": "a1056ef7",
   "metadata": {},
   "outputs": [
    {
     "data": {
      "text/html": [
       "<div>\n",
       "<style scoped>\n",
       "    .dataframe tbody tr th:only-of-type {\n",
       "        vertical-align: middle;\n",
       "    }\n",
       "\n",
       "    .dataframe tbody tr th {\n",
       "        vertical-align: top;\n",
       "    }\n",
       "\n",
       "    .dataframe thead th {\n",
       "        text-align: right;\n",
       "    }\n",
       "</style>\n",
       "<table border=\"1\" class=\"dataframe\">\n",
       "  <thead>\n",
       "    <tr style=\"text-align: right;\">\n",
       "      <th></th>\n",
       "      <th>Kolon1</th>\n",
       "      <th>Kolon2</th>\n",
       "      <th>Kolon3</th>\n",
       "      <th>Kolon4</th>\n",
       "    </tr>\n",
       "  </thead>\n",
       "  <tbody>\n",
       "    <tr>\n",
       "      <th>A</th>\n",
       "      <td>-2.410381</td>\n",
       "      <td>0.924931</td>\n",
       "      <td>-1.113329</td>\n",
       "      <td>1.359782</td>\n",
       "    </tr>\n",
       "    <tr>\n",
       "      <th>B</th>\n",
       "      <td>-0.271926</td>\n",
       "      <td>-0.634828</td>\n",
       "      <td>-0.057505</td>\n",
       "      <td>-2.062629</td>\n",
       "    </tr>\n",
       "    <tr>\n",
       "      <th>C</th>\n",
       "      <td>-0.413986</td>\n",
       "      <td>0.010533</td>\n",
       "      <td>0.389517</td>\n",
       "      <td>-1.211320</td>\n",
       "    </tr>\n",
       "    <tr>\n",
       "      <th>D</th>\n",
       "      <td>0.315817</td>\n",
       "      <td>0.795108</td>\n",
       "      <td>0.126387</td>\n",
       "      <td>-0.695271</td>\n",
       "    </tr>\n",
       "  </tbody>\n",
       "</table>\n",
       "</div>"
      ],
      "text/plain": [
       "     Kolon1    Kolon2    Kolon3    Kolon4\n",
       "A -2.410381  0.924931 -1.113329  1.359782\n",
       "B -0.271926 -0.634828 -0.057505 -2.062629\n",
       "C -0.413986  0.010533  0.389517 -1.211320\n",
       "D  0.315817  0.795108  0.126387 -0.695271"
      ]
     },
     "execution_count": 48,
     "metadata": {},
     "output_type": "execute_result"
    }
   ],
   "source": [
    "df"
   ]
  },
  {
   "cell_type": "code",
   "execution_count": 51,
   "id": "57555fcc",
   "metadata": {},
   "outputs": [],
   "source": [
    "df[\"Kolon5\"]=randn(4)   #Numpy kullanarak newArray oluşturulur. Daha basit yolu."
   ]
  },
  {
   "cell_type": "code",
   "execution_count": 52,
   "id": "293310ac",
   "metadata": {},
   "outputs": [
    {
     "data": {
      "text/html": [
       "<div>\n",
       "<style scoped>\n",
       "    .dataframe tbody tr th:only-of-type {\n",
       "        vertical-align: middle;\n",
       "    }\n",
       "\n",
       "    .dataframe tbody tr th {\n",
       "        vertical-align: top;\n",
       "    }\n",
       "\n",
       "    .dataframe thead th {\n",
       "        text-align: right;\n",
       "    }\n",
       "</style>\n",
       "<table border=\"1\" class=\"dataframe\">\n",
       "  <thead>\n",
       "    <tr style=\"text-align: right;\">\n",
       "      <th></th>\n",
       "      <th>Kolon1</th>\n",
       "      <th>Kolon2</th>\n",
       "      <th>Kolon3</th>\n",
       "      <th>Kolon4</th>\n",
       "      <th>Kolon5</th>\n",
       "    </tr>\n",
       "  </thead>\n",
       "  <tbody>\n",
       "    <tr>\n",
       "      <th>A</th>\n",
       "      <td>-2.410381</td>\n",
       "      <td>0.924931</td>\n",
       "      <td>-1.113329</td>\n",
       "      <td>1.359782</td>\n",
       "      <td>-1.106142</td>\n",
       "    </tr>\n",
       "    <tr>\n",
       "      <th>B</th>\n",
       "      <td>-0.271926</td>\n",
       "      <td>-0.634828</td>\n",
       "      <td>-0.057505</td>\n",
       "      <td>-2.062629</td>\n",
       "      <td>0.201996</td>\n",
       "    </tr>\n",
       "    <tr>\n",
       "      <th>C</th>\n",
       "      <td>-0.413986</td>\n",
       "      <td>0.010533</td>\n",
       "      <td>0.389517</td>\n",
       "      <td>-1.211320</td>\n",
       "      <td>0.534029</td>\n",
       "    </tr>\n",
       "    <tr>\n",
       "      <th>D</th>\n",
       "      <td>0.315817</td>\n",
       "      <td>0.795108</td>\n",
       "      <td>0.126387</td>\n",
       "      <td>-0.695271</td>\n",
       "      <td>-0.678622</td>\n",
       "    </tr>\n",
       "  </tbody>\n",
       "</table>\n",
       "</div>"
      ],
      "text/plain": [
       "     Kolon1    Kolon2    Kolon3    Kolon4    Kolon5\n",
       "A -2.410381  0.924931 -1.113329  1.359782 -1.106142\n",
       "B -0.271926 -0.634828 -0.057505 -2.062629  0.201996\n",
       "C -0.413986  0.010533  0.389517 -1.211320  0.534029\n",
       "D  0.315817  0.795108  0.126387 -0.695271 -0.678622"
      ]
     },
     "execution_count": 52,
     "metadata": {},
     "output_type": "execute_result"
    }
   ],
   "source": [
    "df"
   ]
  },
  {
   "cell_type": "code",
   "execution_count": 53,
   "id": "99c874a2",
   "metadata": {},
   "outputs": [],
   "source": [
    "df[\"Kolon6\"]=[\"newValue\",\"newValue2\",\"newValue3\",\"newValue4\"]"
   ]
  },
  {
   "cell_type": "code",
   "execution_count": 54,
   "id": "36fb7ed9",
   "metadata": {},
   "outputs": [
    {
     "data": {
      "text/html": [
       "<div>\n",
       "<style scoped>\n",
       "    .dataframe tbody tr th:only-of-type {\n",
       "        vertical-align: middle;\n",
       "    }\n",
       "\n",
       "    .dataframe tbody tr th {\n",
       "        vertical-align: top;\n",
       "    }\n",
       "\n",
       "    .dataframe thead th {\n",
       "        text-align: right;\n",
       "    }\n",
       "</style>\n",
       "<table border=\"1\" class=\"dataframe\">\n",
       "  <thead>\n",
       "    <tr style=\"text-align: right;\">\n",
       "      <th></th>\n",
       "      <th>Kolon1</th>\n",
       "      <th>Kolon2</th>\n",
       "      <th>Kolon3</th>\n",
       "      <th>Kolon4</th>\n",
       "      <th>Kolon5</th>\n",
       "      <th>Kolon6</th>\n",
       "    </tr>\n",
       "  </thead>\n",
       "  <tbody>\n",
       "    <tr>\n",
       "      <th>A</th>\n",
       "      <td>-2.410381</td>\n",
       "      <td>0.924931</td>\n",
       "      <td>-1.113329</td>\n",
       "      <td>1.359782</td>\n",
       "      <td>-1.106142</td>\n",
       "      <td>newValue</td>\n",
       "    </tr>\n",
       "    <tr>\n",
       "      <th>B</th>\n",
       "      <td>-0.271926</td>\n",
       "      <td>-0.634828</td>\n",
       "      <td>-0.057505</td>\n",
       "      <td>-2.062629</td>\n",
       "      <td>0.201996</td>\n",
       "      <td>newValue2</td>\n",
       "    </tr>\n",
       "    <tr>\n",
       "      <th>C</th>\n",
       "      <td>-0.413986</td>\n",
       "      <td>0.010533</td>\n",
       "      <td>0.389517</td>\n",
       "      <td>-1.211320</td>\n",
       "      <td>0.534029</td>\n",
       "      <td>newValue3</td>\n",
       "    </tr>\n",
       "    <tr>\n",
       "      <th>D</th>\n",
       "      <td>0.315817</td>\n",
       "      <td>0.795108</td>\n",
       "      <td>0.126387</td>\n",
       "      <td>-0.695271</td>\n",
       "      <td>-0.678622</td>\n",
       "      <td>newValue4</td>\n",
       "    </tr>\n",
       "  </tbody>\n",
       "</table>\n",
       "</div>"
      ],
      "text/plain": [
       "     Kolon1    Kolon2    Kolon3    Kolon4    Kolon5     Kolon6\n",
       "A -2.410381  0.924931 -1.113329  1.359782 -1.106142   newValue\n",
       "B -0.271926 -0.634828 -0.057505 -2.062629  0.201996  newValue2\n",
       "C -0.413986  0.010533  0.389517 -1.211320  0.534029  newValue3\n",
       "D  0.315817  0.795108  0.126387 -0.695271 -0.678622  newValue4"
      ]
     },
     "execution_count": 54,
     "metadata": {},
     "output_type": "execute_result"
    }
   ],
   "source": [
    "df"
   ]
  },
  {
   "cell_type": "code",
   "execution_count": 57,
   "id": "bdeb2436",
   "metadata": {
    "scrolled": true
   },
   "outputs": [
    {
     "data": {
      "text/html": [
       "<div>\n",
       "<style scoped>\n",
       "    .dataframe tbody tr th:only-of-type {\n",
       "        vertical-align: middle;\n",
       "    }\n",
       "\n",
       "    .dataframe tbody tr th {\n",
       "        vertical-align: top;\n",
       "    }\n",
       "\n",
       "    .dataframe thead th {\n",
       "        text-align: right;\n",
       "    }\n",
       "</style>\n",
       "<table border=\"1\" class=\"dataframe\">\n",
       "  <thead>\n",
       "    <tr style=\"text-align: right;\">\n",
       "      <th></th>\n",
       "      <th>Kolon1</th>\n",
       "      <th>Kolon2</th>\n",
       "      <th>Kolon3</th>\n",
       "      <th>Kolon4</th>\n",
       "      <th>Kolon5</th>\n",
       "    </tr>\n",
       "    <tr>\n",
       "      <th>Kolon6</th>\n",
       "      <th></th>\n",
       "      <th></th>\n",
       "      <th></th>\n",
       "      <th></th>\n",
       "      <th></th>\n",
       "    </tr>\n",
       "  </thead>\n",
       "  <tbody>\n",
       "    <tr>\n",
       "      <th>newValue</th>\n",
       "      <td>-2.410381</td>\n",
       "      <td>0.924931</td>\n",
       "      <td>-1.113329</td>\n",
       "      <td>1.359782</td>\n",
       "      <td>-1.106142</td>\n",
       "    </tr>\n",
       "    <tr>\n",
       "      <th>newValue2</th>\n",
       "      <td>-0.271926</td>\n",
       "      <td>-0.634828</td>\n",
       "      <td>-0.057505</td>\n",
       "      <td>-2.062629</td>\n",
       "      <td>0.201996</td>\n",
       "    </tr>\n",
       "    <tr>\n",
       "      <th>newValue3</th>\n",
       "      <td>-0.413986</td>\n",
       "      <td>0.010533</td>\n",
       "      <td>0.389517</td>\n",
       "      <td>-1.211320</td>\n",
       "      <td>0.534029</td>\n",
       "    </tr>\n",
       "    <tr>\n",
       "      <th>newValue4</th>\n",
       "      <td>0.315817</td>\n",
       "      <td>0.795108</td>\n",
       "      <td>0.126387</td>\n",
       "      <td>-0.695271</td>\n",
       "      <td>-0.678622</td>\n",
       "    </tr>\n",
       "  </tbody>\n",
       "</table>\n",
       "</div>"
      ],
      "text/plain": [
       "             Kolon1    Kolon2    Kolon3    Kolon4    Kolon5\n",
       "Kolon6                                                     \n",
       "newValue  -2.410381  0.924931 -1.113329  1.359782 -1.106142\n",
       "newValue2 -0.271926 -0.634828 -0.057505 -2.062629  0.201996\n",
       "newValue3 -0.413986  0.010533  0.389517 -1.211320  0.534029\n",
       "newValue4  0.315817  0.795108  0.126387 -0.695271 -0.678622"
      ]
     },
     "execution_count": 57,
     "metadata": {},
     "output_type": "execute_result"
    }
   ],
   "source": [
    "df.set_index(\"Kolon6\")    #BURADA KOLON6 NIN DEĞERLERİ A,B,C,D İNDEKSİNİN YERİNE GEÇTİ VE BU İNDEKSLERİN İSMİ KOLON6 OLDU."
   ]
  },
  {
   "cell_type": "code",
   "execution_count": 59,
   "id": "04367c2c",
   "metadata": {},
   "outputs": [
    {
     "data": {
      "text/html": [
       "<div>\n",
       "<style scoped>\n",
       "    .dataframe tbody tr th:only-of-type {\n",
       "        vertical-align: middle;\n",
       "    }\n",
       "\n",
       "    .dataframe tbody tr th {\n",
       "        vertical-align: top;\n",
       "    }\n",
       "\n",
       "    .dataframe thead th {\n",
       "        text-align: right;\n",
       "    }\n",
       "</style>\n",
       "<table border=\"1\" class=\"dataframe\">\n",
       "  <thead>\n",
       "    <tr style=\"text-align: right;\">\n",
       "      <th></th>\n",
       "      <th>Kolon1</th>\n",
       "      <th>Kolon2</th>\n",
       "      <th>Kolon3</th>\n",
       "      <th>Kolon4</th>\n",
       "      <th>Kolon5</th>\n",
       "      <th>Kolon6</th>\n",
       "    </tr>\n",
       "  </thead>\n",
       "  <tbody>\n",
       "    <tr>\n",
       "      <th>A</th>\n",
       "      <td>-2.410381</td>\n",
       "      <td>0.924931</td>\n",
       "      <td>-1.113329</td>\n",
       "      <td>1.359782</td>\n",
       "      <td>-1.106142</td>\n",
       "      <td>newValue</td>\n",
       "    </tr>\n",
       "    <tr>\n",
       "      <th>B</th>\n",
       "      <td>-0.271926</td>\n",
       "      <td>-0.634828</td>\n",
       "      <td>-0.057505</td>\n",
       "      <td>-2.062629</td>\n",
       "      <td>0.201996</td>\n",
       "      <td>newValue2</td>\n",
       "    </tr>\n",
       "    <tr>\n",
       "      <th>C</th>\n",
       "      <td>-0.413986</td>\n",
       "      <td>0.010533</td>\n",
       "      <td>0.389517</td>\n",
       "      <td>-1.211320</td>\n",
       "      <td>0.534029</td>\n",
       "      <td>newValue3</td>\n",
       "    </tr>\n",
       "    <tr>\n",
       "      <th>D</th>\n",
       "      <td>0.315817</td>\n",
       "      <td>0.795108</td>\n",
       "      <td>0.126387</td>\n",
       "      <td>-0.695271</td>\n",
       "      <td>-0.678622</td>\n",
       "      <td>newValue4</td>\n",
       "    </tr>\n",
       "  </tbody>\n",
       "</table>\n",
       "</div>"
      ],
      "text/plain": [
       "     Kolon1    Kolon2    Kolon3    Kolon4    Kolon5     Kolon6\n",
       "A -2.410381  0.924931 -1.113329  1.359782 -1.106142   newValue\n",
       "B -0.271926 -0.634828 -0.057505 -2.062629  0.201996  newValue2\n",
       "C -0.413986  0.010533  0.389517 -1.211320  0.534029  newValue3\n",
       "D  0.315817  0.795108  0.126387 -0.695271 -0.678622  newValue4"
      ]
     },
     "execution_count": 59,
     "metadata": {},
     "output_type": "execute_result"
    }
   ],
   "source": [
    "df  #YUKARIDAKİ OLAY KALICI OLMADI BUNUN İÇİN inplace=True yapılmalı"
   ]
  },
  {
   "cell_type": "code",
   "execution_count": 62,
   "id": "4fabdbab",
   "metadata": {},
   "outputs": [
    {
     "ename": "KeyError",
     "evalue": "\"None of ['Kolon6'] are in the columns\"",
     "output_type": "error",
     "traceback": [
      "\u001b[1;31m---------------------------------------------------------------------------\u001b[0m",
      "\u001b[1;31mKeyError\u001b[0m                                  Traceback (most recent call last)",
      "Cell \u001b[1;32mIn[62], line 1\u001b[0m\n\u001b[1;32m----> 1\u001b[0m df\u001b[38;5;241m.\u001b[39mset_index(\u001b[38;5;124m\"\u001b[39m\u001b[38;5;124mKolon6\u001b[39m\u001b[38;5;124m\"\u001b[39m,inplace\u001b[38;5;241m=\u001b[39m\u001b[38;5;28;01mTrue\u001b[39;00m)\n",
      "File \u001b[1;32mC:\\Program Files\\Anaconda3\\Lib\\site-packages\\pandas\\util\\_decorators.py:331\u001b[0m, in \u001b[0;36mdeprecate_nonkeyword_arguments.<locals>.decorate.<locals>.wrapper\u001b[1;34m(*args, **kwargs)\u001b[0m\n\u001b[0;32m    325\u001b[0m \u001b[38;5;28;01mif\u001b[39;00m \u001b[38;5;28mlen\u001b[39m(args) \u001b[38;5;241m>\u001b[39m num_allow_args:\n\u001b[0;32m    326\u001b[0m     warnings\u001b[38;5;241m.\u001b[39mwarn(\n\u001b[0;32m    327\u001b[0m         msg\u001b[38;5;241m.\u001b[39mformat(arguments\u001b[38;5;241m=\u001b[39m_format_argument_list(allow_args)),\n\u001b[0;32m    328\u001b[0m         \u001b[38;5;167;01mFutureWarning\u001b[39;00m,\n\u001b[0;32m    329\u001b[0m         stacklevel\u001b[38;5;241m=\u001b[39mfind_stack_level(),\n\u001b[0;32m    330\u001b[0m     )\n\u001b[1;32m--> 331\u001b[0m \u001b[38;5;28;01mreturn\u001b[39;00m func(\u001b[38;5;241m*\u001b[39margs, \u001b[38;5;241m*\u001b[39m\u001b[38;5;241m*\u001b[39mkwargs)\n",
      "File \u001b[1;32mC:\\Program Files\\Anaconda3\\Lib\\site-packages\\pandas\\core\\frame.py:6012\u001b[0m, in \u001b[0;36mDataFrame.set_index\u001b[1;34m(self, keys, drop, append, inplace, verify_integrity)\u001b[0m\n\u001b[0;32m   6009\u001b[0m                 missing\u001b[38;5;241m.\u001b[39mappend(col)\n\u001b[0;32m   6011\u001b[0m \u001b[38;5;28;01mif\u001b[39;00m missing:\n\u001b[1;32m-> 6012\u001b[0m     \u001b[38;5;28;01mraise\u001b[39;00m \u001b[38;5;167;01mKeyError\u001b[39;00m(\u001b[38;5;124mf\u001b[39m\u001b[38;5;124m\"\u001b[39m\u001b[38;5;124mNone of \u001b[39m\u001b[38;5;132;01m{\u001b[39;00mmissing\u001b[38;5;132;01m}\u001b[39;00m\u001b[38;5;124m are in the columns\u001b[39m\u001b[38;5;124m\"\u001b[39m)\n\u001b[0;32m   6014\u001b[0m \u001b[38;5;28;01mif\u001b[39;00m inplace:\n\u001b[0;32m   6015\u001b[0m     frame \u001b[38;5;241m=\u001b[39m \u001b[38;5;28mself\u001b[39m\n",
      "\u001b[1;31mKeyError\u001b[0m: \"None of ['Kolon6'] are in the columns\""
     ]
    }
   ],
   "source": [
    "df.set_index(\"Kolon6\",inplace=True)  #Böylece index değişimi kalıcı oldu.\n",
    "                                    #KOD TEKRAR ÇALIŞTIRILDIĞINDA HATA VERİR. DAHA ÖNCE DEĞİŞTİRİLDİĞİ İÇİN KOLON6 BULUNAMAZ..."
   ]
  },
  {
   "cell_type": "code",
   "execution_count": 63,
   "id": "4dbfd018",
   "metadata": {},
   "outputs": [
    {
     "data": {
      "text/html": [
       "<div>\n",
       "<style scoped>\n",
       "    .dataframe tbody tr th:only-of-type {\n",
       "        vertical-align: middle;\n",
       "    }\n",
       "\n",
       "    .dataframe tbody tr th {\n",
       "        vertical-align: top;\n",
       "    }\n",
       "\n",
       "    .dataframe thead th {\n",
       "        text-align: right;\n",
       "    }\n",
       "</style>\n",
       "<table border=\"1\" class=\"dataframe\">\n",
       "  <thead>\n",
       "    <tr style=\"text-align: right;\">\n",
       "      <th></th>\n",
       "      <th>Kolon1</th>\n",
       "      <th>Kolon2</th>\n",
       "      <th>Kolon3</th>\n",
       "      <th>Kolon4</th>\n",
       "      <th>Kolon5</th>\n",
       "    </tr>\n",
       "    <tr>\n",
       "      <th>Kolon6</th>\n",
       "      <th></th>\n",
       "      <th></th>\n",
       "      <th></th>\n",
       "      <th></th>\n",
       "      <th></th>\n",
       "    </tr>\n",
       "  </thead>\n",
       "  <tbody>\n",
       "    <tr>\n",
       "      <th>newValue</th>\n",
       "      <td>-2.410381</td>\n",
       "      <td>0.924931</td>\n",
       "      <td>-1.113329</td>\n",
       "      <td>1.359782</td>\n",
       "      <td>-1.106142</td>\n",
       "    </tr>\n",
       "    <tr>\n",
       "      <th>newValue2</th>\n",
       "      <td>-0.271926</td>\n",
       "      <td>-0.634828</td>\n",
       "      <td>-0.057505</td>\n",
       "      <td>-2.062629</td>\n",
       "      <td>0.201996</td>\n",
       "    </tr>\n",
       "    <tr>\n",
       "      <th>newValue3</th>\n",
       "      <td>-0.413986</td>\n",
       "      <td>0.010533</td>\n",
       "      <td>0.389517</td>\n",
       "      <td>-1.211320</td>\n",
       "      <td>0.534029</td>\n",
       "    </tr>\n",
       "    <tr>\n",
       "      <th>newValue4</th>\n",
       "      <td>0.315817</td>\n",
       "      <td>0.795108</td>\n",
       "      <td>0.126387</td>\n",
       "      <td>-0.695271</td>\n",
       "      <td>-0.678622</td>\n",
       "    </tr>\n",
       "  </tbody>\n",
       "</table>\n",
       "</div>"
      ],
      "text/plain": [
       "             Kolon1    Kolon2    Kolon3    Kolon4    Kolon5\n",
       "Kolon6                                                     \n",
       "newValue  -2.410381  0.924931 -1.113329  1.359782 -1.106142\n",
       "newValue2 -0.271926 -0.634828 -0.057505 -2.062629  0.201996\n",
       "newValue3 -0.413986  0.010533  0.389517 -1.211320  0.534029\n",
       "newValue4  0.315817  0.795108  0.126387 -0.695271 -0.678622"
      ]
     },
     "execution_count": 63,
     "metadata": {},
     "output_type": "execute_result"
    }
   ],
   "source": [
    "df"
   ]
  },
  {
   "cell_type": "code",
   "execution_count": 66,
   "id": "11970826",
   "metadata": {},
   "outputs": [
    {
     "data": {
      "text/plain": [
       "FrozenList(['Kolon6'])"
      ]
     },
     "execution_count": 66,
     "metadata": {},
     "output_type": "execute_result"
    }
   ],
   "source": [
    "df.index.names   #Kaç tane index varsa isimlerini gösterir."
   ]
  },
  {
   "cell_type": "code",
   "execution_count": null,
   "id": "db4b7947",
   "metadata": {},
   "outputs": [],
   "source": []
  }
 ],
 "metadata": {
  "kernelspec": {
   "display_name": "Python 3 (ipykernel)",
   "language": "python",
   "name": "python3"
  },
  "language_info": {
   "codemirror_mode": {
    "name": "ipython",
    "version": 3
   },
   "file_extension": ".py",
   "mimetype": "text/x-python",
   "name": "python",
   "nbconvert_exporter": "python",
   "pygments_lexer": "ipython3",
   "version": "3.11.3"
  }
 },
 "nbformat": 4,
 "nbformat_minor": 5
}
