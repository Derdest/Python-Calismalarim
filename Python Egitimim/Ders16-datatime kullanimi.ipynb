{
 "cells": [
  {
   "cell_type": "code",
   "execution_count": 1,
   "id": "be2e0ada",
   "metadata": {},
   "outputs": [],
   "source": [
    "from datetime import datetime"
   ]
  },
  {
   "cell_type": "code",
   "execution_count": 2,
   "id": "fb2f5ff7",
   "metadata": {},
   "outputs": [
    {
     "name": "stdout",
     "output_type": "stream",
     "text": [
      "2023-08-22 11:25:00.623800\n"
     ]
    }
   ],
   "source": [
    "print(datetime.now())"
   ]
  },
  {
   "cell_type": "code",
   "execution_count": 3,
   "id": "363710f0",
   "metadata": {},
   "outputs": [
    {
     "name": "stdout",
     "output_type": "stream",
     "text": [
      "2023-08-22 11:25:24.459496\n"
     ]
    }
   ],
   "source": [
    "a=datetime.now()\n",
    "print(a)"
   ]
  },
  {
   "cell_type": "code",
   "execution_count": 5,
   "id": "029b16cd",
   "metadata": {},
   "outputs": [
    {
     "name": "stdout",
     "output_type": "stream",
     "text": [
      "2023\n"
     ]
    }
   ],
   "source": [
    "a=datetime.now()\n",
    "print(a.year)"
   ]
  },
  {
   "cell_type": "code",
   "execution_count": 6,
   "id": "aa1ee4ea",
   "metadata": {},
   "outputs": [
    {
     "name": "stdout",
     "output_type": "stream",
     "text": [
      "8\n"
     ]
    }
   ],
   "source": [
    "print(a.month)"
   ]
  },
  {
   "cell_type": "code",
   "execution_count": 8,
   "id": "ce15d55a",
   "metadata": {},
   "outputs": [
    {
     "name": "stdout",
     "output_type": "stream",
     "text": [
      "22\n"
     ]
    }
   ],
   "source": [
    "print(a.day)"
   ]
  },
  {
   "cell_type": "code",
   "execution_count": 9,
   "id": "7e11198d",
   "metadata": {},
   "outputs": [
    {
     "name": "stdout",
     "output_type": "stream",
     "text": [
      "11\n"
     ]
    }
   ],
   "source": [
    "print(a.hour)"
   ]
  },
  {
   "cell_type": "code",
   "execution_count": 10,
   "id": "727a47a8",
   "metadata": {},
   "outputs": [
    {
     "name": "stdout",
     "output_type": "stream",
     "text": [
      "463506\n"
     ]
    }
   ],
   "source": [
    "print(a.microsecond)"
   ]
  },
  {
   "cell_type": "code",
   "execution_count": 11,
   "id": "9bf40b25",
   "metadata": {},
   "outputs": [
    {
     "name": "stdout",
     "output_type": "stream",
     "text": [
      "Tue Aug 22 11:26:12 2023\n"
     ]
    }
   ],
   "source": [
    "print(datetime.ctime(a))"
   ]
  },
  {
   "cell_type": "code",
   "execution_count": 44,
   "id": "65e19a48",
   "metadata": {},
   "outputs": [],
   "source": [
    "#strftime datetimenin içindeEN ÇO0K KULLANILAN MODÜLLERDNE BİRİSİDİR"
   ]
  },
  {
   "cell_type": "code",
   "execution_count": 12,
   "id": "feadca5b",
   "metadata": {},
   "outputs": [
    {
     "name": "stdout",
     "output_type": "stream",
     "text": [
      "2023\n"
     ]
    }
   ],
   "source": [
    "print(datetime.strftime(a,\"%Y\"))"
   ]
  },
  {
   "cell_type": "code",
   "execution_count": 13,
   "id": "24201c9a",
   "metadata": {},
   "outputs": [
    {
     "name": "stdout",
     "output_type": "stream",
     "text": [
      "August\n"
     ]
    }
   ],
   "source": [
    "print(datetime.strftime(a,\"%B\"))"
   ]
  },
  {
   "cell_type": "code",
   "execution_count": 14,
   "id": "1051345f",
   "metadata": {},
   "outputs": [
    {
     "name": "stdout",
     "output_type": "stream",
     "text": [
      "Tuesday\n"
     ]
    }
   ],
   "source": [
    "print(datetime.strftime(a,\"%A\"))"
   ]
  },
  {
   "cell_type": "code",
   "execution_count": 15,
   "id": "24deb2e0",
   "metadata": {},
   "outputs": [
    {
     "name": "stdout",
     "output_type": "stream",
     "text": [
      "11:26:12\n"
     ]
    }
   ],
   "source": [
    "print(datetime.strftime(a,\"%X\"))"
   ]
  },
  {
   "cell_type": "code",
   "execution_count": 16,
   "id": "27650fb4",
   "metadata": {},
   "outputs": [
    {
     "name": "stdout",
     "output_type": "stream",
     "text": [
      "08/22/23\n"
     ]
    }
   ],
   "source": [
    "print(datetime.strftime(a,\"%D\"))"
   ]
  },
  {
   "cell_type": "code",
   "execution_count": 17,
   "id": "003bb4e8",
   "metadata": {},
   "outputs": [
    {
     "name": "stdout",
     "output_type": "stream",
     "text": [
      "August 2023\n"
     ]
    }
   ],
   "source": [
    "print(datetime.strftime(a,\"%B %Y\"))"
   ]
  },
  {
   "cell_type": "code",
   "execution_count": 22,
   "id": "bb676d77",
   "metadata": {},
   "outputs": [
    {
     "name": "stdout",
     "output_type": "stream",
     "text": [
      "2023 Salı Ağustos\n"
     ]
    }
   ],
   "source": [
    "print(datetime.strftime(a,\"%Y %A %B\"))"
   ]
  },
  {
   "cell_type": "code",
   "execution_count": null,
   "id": "29c48178",
   "metadata": {},
   "outputs": [],
   "source": []
  },
  {
   "cell_type": "code",
   "execution_count": 23,
   "id": "20011907",
   "metadata": {},
   "outputs": [],
   "source": [
    "import locale"
   ]
  },
  {
   "cell_type": "code",
   "execution_count": 20,
   "id": "7762cedc",
   "metadata": {},
   "outputs": [
    {
     "data": {
      "text/plain": [
       "'Turkish_Turkey.1254'"
      ]
     },
     "execution_count": 20,
     "metadata": {},
     "output_type": "execute_result"
    }
   ],
   "source": [
    "locale.setlocale(locale.LC_ALL,\"\")"
   ]
  },
  {
   "cell_type": "code",
   "execution_count": 21,
   "id": "e2c2471f",
   "metadata": {},
   "outputs": [
    {
     "name": "stdout",
     "output_type": "stream",
     "text": [
      "2023 Ağustos Salı\n"
     ]
    }
   ],
   "source": [
    "print(datetime.strftime(a,\"%Y %B %A\"))"
   ]
  },
  {
   "cell_type": "code",
   "execution_count": null,
   "id": "72804cfc",
   "metadata": {},
   "outputs": [],
   "source": []
  },
  {
   "cell_type": "code",
   "execution_count": 35,
   "id": "ae885fa8",
   "metadata": {},
   "outputs": [
    {
     "name": "stdout",
     "output_type": "stream",
     "text": [
      "1692694167.683986\n"
     ]
    }
   ],
   "source": [
    "a=datetime.now()\n",
    "saniye=datetime.timestamp(a)\n",
    "print(saniye)\n",
    "#ŞUANI SANİYE CİNSİNDEN GÖSTERİR"
   ]
  },
  {
   "cell_type": "code",
   "execution_count": 36,
   "id": "8d61a0f7",
   "metadata": {},
   "outputs": [
    {
     "name": "stdout",
     "output_type": "stream",
     "text": [
      "2023-08-22 11:49:27.683986\n"
     ]
    }
   ],
   "source": [
    "a2=datetime.fromtimestamp(saniye)\n",
    "print(a2)\n",
    "#DAHA ÖNCEDEN SANİYE CİNSİNDEN VERİLEN DEĞER ŞUANKİ ZAMANA DÖNÜŞTÜRÜLÜR"
   ]
  },
  {
   "cell_type": "code",
   "execution_count": null,
   "id": "91c7c10d",
   "metadata": {},
   "outputs": [],
   "source": []
  },
  {
   "cell_type": "code",
   "execution_count": 37,
   "id": "1ce65d77",
   "metadata": {},
   "outputs": [
    {
     "name": "stdout",
     "output_type": "stream",
     "text": [
      "1970-01-01 03:00:00\n"
     ]
    }
   ],
   "source": [
    "a2=datetime.fromtimestamp(0)\n",
    "print(a2)"
   ]
  },
  {
   "cell_type": "code",
   "execution_count": null,
   "id": "71d290a1",
   "metadata": {},
   "outputs": [],
   "source": []
  },
  {
   "cell_type": "code",
   "execution_count": 43,
   "id": "d5fdc0d8",
   "metadata": {},
   "outputs": [
    {
     "name": "stdout",
     "output_type": "stream",
     "text": [
      "1055 days, 12:02:22.342069\n"
     ]
    }
   ],
   "source": [
    "tarih=datetime(2020,10,1)\n",
    "suan=datetime.now()\n",
    "print(suan-tarih)"
   ]
  },
  {
   "cell_type": "code",
   "execution_count": null,
   "id": "ee6d196c",
   "metadata": {},
   "outputs": [],
   "source": []
  }
 ],
 "metadata": {
  "kernelspec": {
   "display_name": "Python 3 (ipykernel)",
   "language": "python",
   "name": "python3"
  },
  "language_info": {
   "codemirror_mode": {
    "name": "ipython",
    "version": 3
   },
   "file_extension": ".py",
   "mimetype": "text/x-python",
   "name": "python",
   "nbconvert_exporter": "python",
   "pygments_lexer": "ipython3",
   "version": "3.11.3"
  }
 },
 "nbformat": 4,
 "nbformat_minor": 5
}
