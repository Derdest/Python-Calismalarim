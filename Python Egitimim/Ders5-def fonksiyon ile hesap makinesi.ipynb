{
 "cells": [
  {
   "cell_type": "code",
   "execution_count": 6,
   "id": "c82f1a3b",
   "metadata": {},
   "outputs": [],
   "source": [
    "def anafonksiyon(işlem_adı):\n",
    "    def toplama(*args):\n",
    "        toplam=0\n",
    "        for i in args:\n",
    "            toplam+=i\n",
    "        return toplam\n",
    "    def çarpma(*args):\n",
    "        çarpım=1\n",
    "        for i in args:\n",
    "            çarpım*=i\n",
    "        return çarpım\n",
    "    \n",
    "    if(işlem_adı==\"toplama\"):\n",
    "        return toplama\n",
    "    elif(işlem_adı==\"çarpma\"):\n",
    "        return çarpma\n"
   ]
  },
  {
   "cell_type": "code",
   "execution_count": 7,
   "id": "46dcf734",
   "metadata": {},
   "outputs": [],
   "source": [
    "fonks=anafonksiyon(\"toplama\")"
   ]
  },
  {
   "cell_type": "code",
   "execution_count": 8,
   "id": "8f14f490",
   "metadata": {},
   "outputs": [
    {
     "data": {
      "text/plain": [
       "<function __main__.anafonksiyon.<locals>.toplama(*args)>"
      ]
     },
     "execution_count": 8,
     "metadata": {},
     "output_type": "execute_result"
    }
   ],
   "source": [
    "fonks"
   ]
  },
  {
   "cell_type": "code",
   "execution_count": 10,
   "id": "b7909f75",
   "metadata": {},
   "outputs": [
    {
     "data": {
      "text/plain": [
       "45"
      ]
     },
     "execution_count": 10,
     "metadata": {},
     "output_type": "execute_result"
    }
   ],
   "source": [
    "fonks(1,2,3,4,5,6,7,8,9)"
   ]
  },
  {
   "cell_type": "code",
   "execution_count": 11,
   "id": "797799d3",
   "metadata": {},
   "outputs": [],
   "source": [
    "fonks2=anafonksiyon(\"çarpma\")"
   ]
  },
  {
   "cell_type": "code",
   "execution_count": 12,
   "id": "6c49c9f5",
   "metadata": {},
   "outputs": [
    {
     "data": {
      "text/plain": [
       "120"
      ]
     },
     "execution_count": 12,
     "metadata": {},
     "output_type": "execute_result"
    }
   ],
   "source": [
    "fonks2(1,2,3,4,5)"
   ]
  },
  {
   "cell_type": "code",
   "execution_count": null,
   "id": "7e3696eb",
   "metadata": {},
   "outputs": [],
   "source": []
  },
  {
   "cell_type": "code",
   "execution_count": 13,
   "id": "5156aae9",
   "metadata": {},
   "outputs": [],
   "source": [
    "def toplama(a,b):\n",
    "    return a+b\n",
    "def çıkarma(a,b):\n",
    "    return a-b\n",
    "def çarpma(a,b):\n",
    "    return a*b\n",
    "def bölme(a,b):\n",
    "    return a/b"
   ]
  },
  {
   "cell_type": "code",
   "execution_count": 14,
   "id": "f133154d",
   "metadata": {},
   "outputs": [],
   "source": [
    "def anafonksiyon(func1,func2,func3,func4,işlem_adı):\n",
    "    if(işlem_adı==\"toplama\"):\n",
    "        print(func1(3,5))\n",
    "    elif(işlem_adı==\"çıkarma\"):\n",
    "        print(func2(8,2))\n",
    "    elif(işlem_adı==\"çarpma\"):\n",
    "        print(func3(4,2))\n",
    "    elif(işlem_adı==\"bölme\"):\n",
    "        print(func4(14,7))\n",
    "    else:\n",
    "        print(\"Geçersiz işlem...\")"
   ]
  },
  {
   "cell_type": "code",
   "execution_count": 15,
   "id": "41571ae3",
   "metadata": {},
   "outputs": [
    {
     "name": "stdout",
     "output_type": "stream",
     "text": [
      "8\n"
     ]
    }
   ],
   "source": [
    "anafonksiyon(toplama,çıkarma,çarpma,bölme,\"toplama\")"
   ]
  },
  {
   "cell_type": "code",
   "execution_count": 16,
   "id": "caae6e96",
   "metadata": {},
   "outputs": [
    {
     "name": "stdout",
     "output_type": "stream",
     "text": [
      "2.0\n"
     ]
    }
   ],
   "source": [
    "anafonksiyon(toplama,çıkarma,çarpma,bölme,\"bölme\")"
   ]
  },
  {
   "cell_type": "code",
   "execution_count": 19,
   "id": "8320ad32",
   "metadata": {},
   "outputs": [
    {
     "name": "stdout",
     "output_type": "stream",
     "text": [
      "6\n"
     ]
    }
   ],
   "source": [
    "anafonksiyon(toplama,çıkarma,çarpma,bölme,\"çıkarma\")"
   ]
  },
  {
   "cell_type": "code",
   "execution_count": null,
   "id": "bb1600b8",
   "metadata": {},
   "outputs": [],
   "source": []
  }
 ],
 "metadata": {
  "kernelspec": {
   "display_name": "Python 3 (ipykernel)",
   "language": "python",
   "name": "python3"
  },
  "language_info": {
   "codemirror_mode": {
    "name": "ipython",
    "version": 3
   },
   "file_extension": ".py",
   "mimetype": "text/x-python",
   "name": "python",
   "nbconvert_exporter": "python",
   "pygments_lexer": "ipython3",
   "version": "3.11.3"
  }
 },
 "nbformat": 4,
 "nbformat_minor": 5
}
