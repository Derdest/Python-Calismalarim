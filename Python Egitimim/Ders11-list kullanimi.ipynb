{
 "cells": [
  {
   "cell_type": "code",
   "execution_count": 17,
   "id": "7b38246c",
   "metadata": {},
   "outputs": [
    {
     "data": {
      "text/plain": [
       "2.0"
      ]
     },
     "execution_count": 17,
     "metadata": {},
     "output_type": "execute_result"
    }
   ],
   "source": [
    "pow(8,(1/3))"
   ]
  },
  {
   "cell_type": "code",
   "execution_count": 8,
   "id": "e6deabee",
   "metadata": {},
   "outputs": [
    {
     "name": "stdout",
     "output_type": "stream",
     "text": [
      "[64, 4]\n",
      "[64]\n"
     ]
    }
   ],
   "source": [
    "liste1=[]\n",
    "a=int(pow(8,2))\n",
    "b=int(pow(2,2))\n",
    "c=int(pow(4,1))\n",
    "sum=[a+b-c,c]\n",
    "print(sum)\n",
    "liste1.append(a)\n",
    "print(liste1)"
   ]
  },
  {
   "cell_type": "code",
   "execution_count": null,
   "id": "7bd6eced",
   "metadata": {},
   "outputs": [],
   "source": []
  },
  {
   "cell_type": "code",
   "execution_count": 7,
   "id": "8e137a1d",
   "metadata": {},
   "outputs": [
    {
     "data": {
      "text/plain": [
       "7"
      ]
     },
     "execution_count": 7,
     "metadata": {},
     "output_type": "execute_result"
    }
   ],
   "source": [
    "liste=[1,2,3,4,3,3,5,2,2,6,7,8,9]\n",
    "liste.index(2,2)"
   ]
  },
  {
   "cell_type": "code",
   "execution_count": null,
   "id": "c331a802",
   "metadata": {},
   "outputs": [],
   "source": []
  }
 ],
 "metadata": {
  "kernelspec": {
   "display_name": "Python 3 (ipykernel)",
   "language": "python",
   "name": "python3"
  },
  "language_info": {
   "codemirror_mode": {
    "name": "ipython",
    "version": 3
   },
   "file_extension": ".py",
   "mimetype": "text/x-python",
   "name": "python",
   "nbconvert_exporter": "python",
   "pygments_lexer": "ipython3",
   "version": "3.11.3"
  }
 },
 "nbformat": 4,
 "nbformat_minor": 5
}
